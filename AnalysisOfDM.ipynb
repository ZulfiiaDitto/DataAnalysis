{
 "cells": [
  {
   "cell_type": "markdown",
   "id": "0337d8fa",
   "metadata": {},
   "source": [
    "\n",
    "### Factors contributing to the development of the complications from prediabetes in geriatric patients\n",
    "\n",
    "\n",
    "The Notebook represent the workflow I used during the pts assessment\n",
    "\n",
    "Used Tables: \n",
    "\n",
    "1. Conditions\n",
    "2. Observations\n",
    "3. Patients\n",
    "4. Medications\n",
    "\n",
    "**Geriatric pts are pts above the 65 years old**\n",
    "\n",
    "I looked into three main conditions related to the DM in geriatric population: \n",
    "\n",
    "**The main complications from the DM:**\n",
    "\n",
    "1. Retinopathy\n",
    "2. Kidney issues \n",
    "3. Anemia \n",
    "4. Diabetes\n",
    "\n",
    "Some patients do developed DM from the prediabetic stage, some olready come with diabetic diagnosis "
   ]
  },
  {
   "cell_type": "code",
   "execution_count": 1,
   "id": "bca44eee",
   "metadata": {},
   "outputs": [],
   "source": [
    "# import the libraries\n",
    "import pandas as pd\n",
    "import numpy as np"
   ]
  },
  {
   "cell_type": "markdown",
   "id": "6afe94a9",
   "metadata": {},
   "source": [
    "### Logic.\n",
    "\n",
    "I used to work with EHR audit log, where all points presented in one table and ordered by the timestamp \n",
    "First lets create the audit log of the DM pts. \n",
    "\n",
    "In order to do assemble the audit log, we need to find the relation between the following tables and merge them: condition, medication, demographic, observation tables.  "
   ]
  },
  {
   "cell_type": "code",
   "execution_count": 3,
   "id": "86d1709d",
   "metadata": {},
   "outputs": [],
   "source": [
    "path = '/Users/zulfiiaditto/Desktop/bigData/final_project/patient_data/'"
   ]
  },
  {
   "cell_type": "code",
   "execution_count": 4,
   "id": "8e3b4059",
   "metadata": {},
   "outputs": [],
   "source": [
    "############### working with the condition db ############"
   ]
  },
  {
   "cell_type": "code",
   "execution_count": 5,
   "id": "1c91506f",
   "metadata": {},
   "outputs": [],
   "source": [
    "df = pd.read_csv(path + 'conditions.csv')"
   ]
  },
  {
   "cell_type": "code",
   "execution_count": 6,
   "id": "72ef7995",
   "metadata": {},
   "outputs": [],
   "source": [
    "# creating the list of the diabetic patients ID which we going \n",
    "#to use over the multiple tables and then clean those again by age \n",
    "\n",
    "ptsD =  df.loc[(df.DESCRIPTION.str.contains('Prediabetes')) | \n",
    "               (df.DESCRIPTION.str.contains('Diabete'))].PATIENT.unique()"
   ]
  },
  {
   "cell_type": "code",
   "execution_count": 7,
   "id": "b260c79c",
   "metadata": {},
   "outputs": [
    {
     "data": {
      "text/plain": [
       "(489193, 6)"
      ]
     },
     "execution_count": 7,
     "metadata": {},
     "output_type": "execute_result"
    }
   ],
   "source": [
    "dfD = df.loc[df.PATIENT.isin(ptsD)].copy()\n",
    "dfD.shape"
   ]
  },
  {
   "cell_type": "code",
   "execution_count": 8,
   "id": "d009aa33",
   "metadata": {},
   "outputs": [
    {
     "data": {
      "text/html": [
       "<div>\n",
       "<style scoped>\n",
       "    .dataframe tbody tr th:only-of-type {\n",
       "        vertical-align: middle;\n",
       "    }\n",
       "\n",
       "    .dataframe tbody tr th {\n",
       "        vertical-align: top;\n",
       "    }\n",
       "\n",
       "    .dataframe thead th {\n",
       "        text-align: right;\n",
       "    }\n",
       "</style>\n",
       "<table border=\"1\" class=\"dataframe\">\n",
       "  <thead>\n",
       "    <tr style=\"text-align: right;\">\n",
       "      <th></th>\n",
       "      <th>START</th>\n",
       "      <th>STOP</th>\n",
       "      <th>PATIENT</th>\n",
       "      <th>ENCOUNTER</th>\n",
       "      <th>CODE</th>\n",
       "      <th>DESCRIPTION</th>\n",
       "    </tr>\n",
       "  </thead>\n",
       "  <tbody>\n",
       "    <tr>\n",
       "      <th>0</th>\n",
       "      <td>1973-12-22</td>\n",
       "      <td>NaN</td>\n",
       "      <td>f1639046-ecb1-b409-21d3-85a7e8e23c81</td>\n",
       "      <td>47a338d3-4e76-fdfd-564c-7c68e1d815f7</td>\n",
       "      <td>19169002</td>\n",
       "      <td>Miscarriage in first trimester</td>\n",
       "    </tr>\n",
       "    <tr>\n",
       "      <th>1</th>\n",
       "      <td>1992-12-02</td>\n",
       "      <td>NaN</td>\n",
       "      <td>f851859f-b0fe-8b36-9939-4276b96d302d</td>\n",
       "      <td>ed3e50dd-ebdf-eaee-a261-f6603ac25e05</td>\n",
       "      <td>162864005</td>\n",
       "      <td>Body mass index 30+ - obesity (finding)</td>\n",
       "    </tr>\n",
       "    <tr>\n",
       "      <th>2</th>\n",
       "      <td>1996-12-11</td>\n",
       "      <td>NaN</td>\n",
       "      <td>f851859f-b0fe-8b36-9939-4276b96d302d</td>\n",
       "      <td>e56964f0-e8a2-816e-e974-a05722171550</td>\n",
       "      <td>44054006</td>\n",
       "      <td>Diabetes</td>\n",
       "    </tr>\n",
       "  </tbody>\n",
       "</table>\n",
       "</div>"
      ],
      "text/plain": [
       "        START STOP                               PATIENT  \\\n",
       "0  1973-12-22  NaN  f1639046-ecb1-b409-21d3-85a7e8e23c81   \n",
       "1  1992-12-02  NaN  f851859f-b0fe-8b36-9939-4276b96d302d   \n",
       "2  1996-12-11  NaN  f851859f-b0fe-8b36-9939-4276b96d302d   \n",
       "\n",
       "                              ENCOUNTER       CODE  \\\n",
       "0  47a338d3-4e76-fdfd-564c-7c68e1d815f7   19169002   \n",
       "1  ed3e50dd-ebdf-eaee-a261-f6603ac25e05  162864005   \n",
       "2  e56964f0-e8a2-816e-e974-a05722171550   44054006   \n",
       "\n",
       "                               DESCRIPTION  \n",
       "0           Miscarriage in first trimester  \n",
       "1  Body mass index 30+ - obesity (finding)  \n",
       "2                                 Diabetes  "
      ]
     },
     "execution_count": 8,
     "metadata": {},
     "output_type": "execute_result"
    }
   ],
   "source": [
    "dfD.head(3)"
   ]
  },
  {
   "cell_type": "code",
   "execution_count": 9,
   "id": "ce88ff7e",
   "metadata": {},
   "outputs": [
    {
     "data": {
      "text/plain": [
       "START          object\n",
       "STOP           object\n",
       "PATIENT        object\n",
       "ENCOUNTER      object\n",
       "CODE            int64\n",
       "DESCRIPTION    object\n",
       "dtype: object"
      ]
     },
     "execution_count": 9,
     "metadata": {},
     "output_type": "execute_result"
    }
   ],
   "source": [
    "dfD.dtypes"
   ]
  },
  {
   "cell_type": "code",
   "execution_count": 10,
   "id": "1fc0fcb4",
   "metadata": {},
   "outputs": [],
   "source": [
    "#Description column will have the \"History of anemia\" -> \n",
    "#remoring all the rows with history \n",
    "\n",
    "dfD = dfD.loc[~dfD.DESCRIPTION.str.startswith('History')]\n"
   ]
  },
  {
   "cell_type": "code",
   "execution_count": 11,
   "id": "be02ae89",
   "metadata": {},
   "outputs": [
    {
     "data": {
      "text/html": [
       "<div>\n",
       "<style scoped>\n",
       "    .dataframe tbody tr th:only-of-type {\n",
       "        vertical-align: middle;\n",
       "    }\n",
       "\n",
       "    .dataframe tbody tr th {\n",
       "        vertical-align: top;\n",
       "    }\n",
       "\n",
       "    .dataframe thead th {\n",
       "        text-align: right;\n",
       "    }\n",
       "</style>\n",
       "<table border=\"1\" class=\"dataframe\">\n",
       "  <thead>\n",
       "    <tr style=\"text-align: right;\">\n",
       "      <th></th>\n",
       "      <th>START</th>\n",
       "      <th>STOP</th>\n",
       "      <th>PATIENT</th>\n",
       "      <th>ENCOUNTER</th>\n",
       "      <th>CODE</th>\n",
       "      <th>DESCRIPTION</th>\n",
       "    </tr>\n",
       "  </thead>\n",
       "  <tbody>\n",
       "    <tr>\n",
       "      <th>613498</th>\n",
       "      <td>1921-06-16</td>\n",
       "      <td>NaN</td>\n",
       "      <td>f9eb7600-f72a-7226-6019-d854a98747af</td>\n",
       "      <td>20305127-7b64-3863-8b1e-e5c5ebf466c2</td>\n",
       "      <td>128613002</td>\n",
       "      <td>Seizure disorder</td>\n",
       "    </tr>\n",
       "    <tr>\n",
       "      <th>613500</th>\n",
       "      <td>1921-06-16</td>\n",
       "      <td>NaN</td>\n",
       "      <td>f9eb7600-f72a-7226-6019-d854a98747af</td>\n",
       "      <td>20305127-7b64-3863-8b1e-e5c5ebf466c2</td>\n",
       "      <td>84757009</td>\n",
       "      <td>Epilepsy</td>\n",
       "    </tr>\n",
       "    <tr>\n",
       "      <th>307744</th>\n",
       "      <td>1921-08-10</td>\n",
       "      <td>NaN</td>\n",
       "      <td>ef88888f-9234-5694-86b9-2a5e3c9b42f2</td>\n",
       "      <td>f8b96817-30e2-51c4-4875-317244c26537</td>\n",
       "      <td>128613002</td>\n",
       "      <td>Seizure disorder</td>\n",
       "    </tr>\n",
       "    <tr>\n",
       "      <th>315964</th>\n",
       "      <td>1921-09-13</td>\n",
       "      <td>NaN</td>\n",
       "      <td>bbd8b747-06a7-6f55-07d8-a4ae240e255c</td>\n",
       "      <td>1df5f15c-26e4-d240-c028-3891e041c7ba</td>\n",
       "      <td>128613002</td>\n",
       "      <td>Seizure disorder</td>\n",
       "    </tr>\n",
       "    <tr>\n",
       "      <th>88464</th>\n",
       "      <td>1921-09-30</td>\n",
       "      <td>NaN</td>\n",
       "      <td>13351eed-1809-efd4-4a36-a1e11ac8bcc4</td>\n",
       "      <td>82c76a1a-9328-e418-fda7-39a9122f07cc</td>\n",
       "      <td>128613002</td>\n",
       "      <td>Seizure disorder</td>\n",
       "    </tr>\n",
       "  </tbody>\n",
       "</table>\n",
       "</div>"
      ],
      "text/plain": [
       "             START STOP                               PATIENT  \\\n",
       "613498  1921-06-16  NaN  f9eb7600-f72a-7226-6019-d854a98747af   \n",
       "613500  1921-06-16  NaN  f9eb7600-f72a-7226-6019-d854a98747af   \n",
       "307744  1921-08-10  NaN  ef88888f-9234-5694-86b9-2a5e3c9b42f2   \n",
       "315964  1921-09-13  NaN  bbd8b747-06a7-6f55-07d8-a4ae240e255c   \n",
       "88464   1921-09-30  NaN  13351eed-1809-efd4-4a36-a1e11ac8bcc4   \n",
       "\n",
       "                                   ENCOUNTER       CODE       DESCRIPTION  \n",
       "613498  20305127-7b64-3863-8b1e-e5c5ebf466c2  128613002  Seizure disorder  \n",
       "613500  20305127-7b64-3863-8b1e-e5c5ebf466c2   84757009          Epilepsy  \n",
       "307744  f8b96817-30e2-51c4-4875-317244c26537  128613002  Seizure disorder  \n",
       "315964  1df5f15c-26e4-d240-c028-3891e041c7ba  128613002  Seizure disorder  \n",
       "88464   82c76a1a-9328-e418-fda7-39a9122f07cc  128613002  Seizure disorder  "
      ]
     },
     "execution_count": 11,
     "metadata": {},
     "output_type": "execute_result"
    }
   ],
   "source": [
    "dfD = dfD.sort_values(by = 'START') # ordering by the start timestamp\n",
    "dfD.head()"
   ]
  },
  {
   "cell_type": "code",
   "execution_count": 12,
   "id": "ef9a4223",
   "metadata": {},
   "outputs": [],
   "source": [
    "################### working with observation table ############\n",
    "\n",
    "observation = pd.read_csv(path + 'observations.csv')\n",
    "\n",
    "# pulling out onle the pts with has DM or prediabetes \n",
    "obs = observation.loc[observation.PATIENT.isin(ptsD)].copy()\n",
    "obs = obs.rename(columns = {\"DATE\" : \"START\"})"
   ]
  },
  {
   "cell_type": "code",
   "execution_count": 13,
   "id": "71f8d5cb",
   "metadata": {},
   "outputs": [
    {
     "data": {
      "text/plain": [
       "(23867815, 8)"
      ]
     },
     "execution_count": 13,
     "metadata": {},
     "output_type": "execute_result"
    }
   ],
   "source": [
    "obs.shape"
   ]
  },
  {
   "cell_type": "code",
   "execution_count": 14,
   "id": "795791dc",
   "metadata": {},
   "outputs": [],
   "source": [
    "# append observation table to the condition table \n",
    "dfD = dfD.append(obs)"
   ]
  },
  {
   "cell_type": "code",
   "execution_count": 15,
   "id": "5b01af1c",
   "metadata": {},
   "outputs": [],
   "source": [
    "################ working with the medication table #################\n",
    "\n",
    "# use the same logic \n",
    "medications = pd.read_csv(path + 'medications.csv')\n",
    "meds = medications.loc[medications.PATIENT.isin(ptsD)] \n",
    "\n",
    "dfD = dfD.append(meds.drop(['CODE', 'REASONCODE'], axis = 1))"
   ]
  },
  {
   "cell_type": "code",
   "execution_count": 16,
   "id": "34a5f90c",
   "metadata": {},
   "outputs": [],
   "source": [
    "################ working with the devices table ####################\n",
    "# I am hoping that hospital will provide for geriatric patients some glucose measurement instruments \n",
    "# or diabetic pumps or something to improve they quality of live \n",
    "\n",
    "devices = pd.read_csv(path +'devices.csv')\n",
    "dev = devices.loc[devices.PATIENT.isin(ptsD), ['START', 'STOP', 'PATIENT', 'ENCOUNTER', 'DESCRIPTION',]]"
   ]
  },
  {
   "cell_type": "code",
   "execution_count": 17,
   "id": "cda7dd3e",
   "metadata": {},
   "outputs": [],
   "source": [
    "dfD = dfD.append(dev)"
   ]
  },
  {
   "cell_type": "code",
   "execution_count": 18,
   "id": "73f22fce",
   "metadata": {},
   "outputs": [],
   "source": [
    "################### working with the demographic table ###################\n",
    "\n",
    "dem = pd.read_csv(path +'patients.csv')"
   ]
  },
  {
   "cell_type": "code",
   "execution_count": 19,
   "id": "1898e88c",
   "metadata": {},
   "outputs": [],
   "source": [
    "# the birthday column to datetime type \n",
    "dem['BIRTHDATE'] = dem['BIRTHDATE'].astype('datetime64[ns]')"
   ]
  },
  {
   "cell_type": "code",
   "execution_count": 20,
   "id": "99e2fc70",
   "metadata": {},
   "outputs": [],
   "source": [
    "# selecting pts of interest \n",
    "demP = dem.loc[dem.Id.isin(ptsD)].copy()\n"
   ]
  },
  {
   "cell_type": "code",
   "execution_count": 21,
   "id": "09471300",
   "metadata": {},
   "outputs": [],
   "source": [
    "# renaming column for merging \n",
    "demP.rename({\"Id\": \"PATIENT\"},axis =1, inplace = True)"
   ]
  },
  {
   "cell_type": "markdown",
   "id": "bf6a742b",
   "metadata": {},
   "source": [
    "Lets put aside the demographic table and do little bit more owrk with the \n",
    " dfD table:\n",
    "1. Start and Stop columns need to be transfer to the datatime dtype\n",
    "2. Lets find the time difference betweeb the prediabetis and other complication to occuare (logic explain bellow)\n"
   ]
  },
  {
   "cell_type": "code",
   "execution_count": 22,
   "id": "77fc3213",
   "metadata": {},
   "outputs": [],
   "source": [
    "\n",
    "# dtype casting \n",
    "columns =['START', 'STOP']\n",
    "for i in columns:\n",
    "    dfD[i] = pd.to_datetime(dfD[i], utc=True)"
   ]
  },
  {
   "cell_type": "code",
   "execution_count": 23,
   "id": "c18d9903",
   "metadata": {},
   "outputs": [],
   "source": [
    "# in order to understand the time of developing the complication -> \n",
    "# lets find the the following: 1.create the new column (dtype - datetime), and assign the value as a time when the \n",
    "#DM start \n",
    "\n",
    "dfD['timeofDiabetesDiag'] =pd.NaT\n",
    "dfD.loc[dfD.DESCRIPTION.str.contains('Prediabete'), 'timeofDiabetesDiag']= dfD.loc[dfD.DESCRIPTION.str.contains('Prediabete'), 'START']\n",
    "\n",
    "# lets groupby by the pts and fill the values \n",
    "\n",
    "dfD['timeofDiabetesDiag'] = dfD.groupby(['PATIENT'])['timeofDiabetesDiag'].ffill()\n",
    "dfD['timeofDiabetesDiag'] = dfD.groupby(['PATIENT'])['timeofDiabetesDiag'].bfill()\n",
    "\n",
    "# by substarcting the time when the DM started from the start column -> \n",
    "#find related to the DM complication time\n",
    "\n",
    "dfD['difference'] = dfD['START'] - dfD['timeofDiabetesDiag'] \n",
    "                                                                                "
   ]
  },
  {
   "cell_type": "code",
   "execution_count": null,
   "id": "1ef55a48",
   "metadata": {},
   "outputs": [],
   "source": []
  },
  {
   "cell_type": "markdown",
   "id": "7613046b",
   "metadata": {},
   "source": [
    "Complication we are going look for (the assigned notations)\n",
    "#### prediabetes -> 0\n",
    "#### diabetes ->1 \n",
    "#### anemia -> due to treatment/olderly  -> 2\n",
    "#### kidney desiase -> 3\n",
    "#### retinopathy -> 4"
   ]
  },
  {
   "cell_type": "code",
   "execution_count": 24,
   "id": "bbde51b5",
   "metadata": {},
   "outputs": [],
   "source": [
    "dfD['Complications'] = np.nan\n",
    "dfD.loc[dfD.DESCRIPTION.str.contains('Prediabet'), 'Complications'] = 0\n",
    "dfD.loc[dfD.DESCRIPTION.str.contains('Diabete'), 'Complications'] = 1\n",
    "dfD.loc[dfD.DESCRIPTION.str.contains('Anemia'), 'Complications'] = 2\n",
    "dfD.loc[dfD.DESCRIPTION.str.contains('Diabetic renal'), 'Complications'] = 3\n",
    "dfD.loc[dfD.DESCRIPTION.str.contains('Diabetic retinopathy'), 'Complications'] = 4"
   ]
  },
  {
   "cell_type": "code",
   "execution_count": 25,
   "id": "cc2dd23b",
   "metadata": {},
   "outputs": [],
   "source": [
    "### merging table with the demographic and total one table dfD \n",
    "\n",
    "DP = dfD.merge(demP, on = 'PATIENT', how = 'left')"
   ]
  },
  {
   "cell_type": "code",
   "execution_count": 26,
   "id": "4461defb",
   "metadata": {},
   "outputs": [],
   "source": [
    "# pulling out only the healthcare path for when the DM diagnosed and after -> since the difference column with \n",
    "#the DM diagnose will have 0 as a time -> pulling out everything above 0  \n",
    "\n",
    "DPC = DP.loc[(DP.difference >= pd.Timedelta(0, unit ='D'))].copy()\n"
   ]
  },
  {
   "cell_type": "code",
   "execution_count": 27,
   "id": "e8f5ae6f",
   "metadata": {},
   "outputs": [],
   "source": [
    "# we need to pull out only the geriatric pts -> age above 65 \n",
    "#columns = columns + [\"BIRTHDATE\"]\n",
    "\n",
    "for i in ['BIRTHDATE', 'START', 'STOP']:\n",
    "    DPC[i] =pd.to_datetime(DPC[i], utc=True)\n",
    "\n",
    "DPC['year'] = DPC[\"START\"].dt.year \n",
    "DPC['age'] = DPC['BIRTHDATE'].dt.year-DPC['year']\n",
    "DPC = DPC.loc[DPC.age > 65].copy()"
   ]
  },
  {
   "cell_type": "code",
   "execution_count": 28,
   "id": "edac5ab8",
   "metadata": {},
   "outputs": [
    {
     "data": {
      "text/plain": [
       "(144591, 34)"
      ]
     },
     "execution_count": 28,
     "metadata": {},
     "output_type": "execute_result"
    }
   ],
   "source": [
    "DPC.shape"
   ]
  },
  {
   "cell_type": "code",
   "execution_count": 29,
   "id": "101c7c7c",
   "metadata": {},
   "outputs": [
    {
     "data": {
      "text/plain": [
       "11390"
      ]
     },
     "execution_count": 29,
     "metadata": {},
     "output_type": "execute_result"
    }
   ],
   "source": [
    "# total geriatric pts \n",
    "len(DPC.PATIENT.unique())\n"
   ]
  },
  {
   "cell_type": "code",
   "execution_count": 30,
   "id": "02b107ce",
   "metadata": {},
   "outputs": [
    {
     "name": "stdout",
     "output_type": "stream",
     "text": [
      "2000-08-30 02:06:29+00:00 1940-02-29 00:00:00+00:00\n"
     ]
    }
   ],
   "source": [
    "print(DPC.START.max() , DPC.START.min()) \n",
    "# timespan in dataset "
   ]
  },
  {
   "cell_type": "code",
   "execution_count": 31,
   "id": "a4485143",
   "metadata": {},
   "outputs": [],
   "source": [
    "# the average time of complication developing from the prediabetis \n",
    "toCalc = DPC.groupby(['PATIENT', 'Complications'])['difference'].mean().reset_index(name = 'average')\n"
   ]
  },
  {
   "cell_type": "code",
   "execution_count": 32,
   "id": "084ce47b",
   "metadata": {},
   "outputs": [
    {
     "data": {
      "text/plain": [
       "Complications\n",
       "0.0                0 days 00:00:00\n",
       "1.0   1413 days 03:16:26.036519872\n",
       "2.0    453 days 21:07:14.856535600\n",
       "3.0   2116 days 17:10:02.135231328\n",
       "4.0   2364 days 19:13:58.356164384\n",
       "Name: average, dtype: timedelta64[ns]"
      ]
     },
     "execution_count": 32,
     "metadata": {},
     "output_type": "execute_result"
    }
   ],
   "source": [
    "toCalc.groupby('Complications')['average'].mean()"
   ]
  },
  {
   "cell_type": "code",
   "execution_count": 33,
   "id": "f51f7901",
   "metadata": {},
   "outputs": [],
   "source": [
    "DPC = DPC.sort_values(by = 'START')"
   ]
  },
  {
   "cell_type": "markdown",
   "id": "61d447fd",
   "metadata": {},
   "source": [
    "### lets see the pts aggregations within the different groups and complications"
   ]
  },
  {
   "cell_type": "code",
   "execution_count": 34,
   "id": "c018e8c9",
   "metadata": {},
   "outputs": [],
   "source": [
    "###### creating the function for easy to pivot table for further visualization \n",
    "\n",
    "def pivotingForViz(df, colName):\n",
    "    new = df.groupby(['Complications', colName]).size().reset_index(name = 'Ptcount')\n",
    "    newP = pd.pivot(new, values = 'Ptcount', columns = ['Complications'], index = colName)\n",
    "    return newP"
   ]
  },
  {
   "cell_type": "code",
   "execution_count": 35,
   "id": "a5c6c493",
   "metadata": {},
   "outputs": [
    {
     "data": {
      "text/html": [
       "<div>\n",
       "<style scoped>\n",
       "    .dataframe tbody tr th:only-of-type {\n",
       "        vertical-align: middle;\n",
       "    }\n",
       "\n",
       "    .dataframe tbody tr th {\n",
       "        vertical-align: top;\n",
       "    }\n",
       "\n",
       "    .dataframe thead th {\n",
       "        text-align: right;\n",
       "    }\n",
       "</style>\n",
       "<table border=\"1\" class=\"dataframe\">\n",
       "  <thead>\n",
       "    <tr style=\"text-align: right;\">\n",
       "      <th>Complications</th>\n",
       "      <th>0.0</th>\n",
       "      <th>1.0</th>\n",
       "      <th>2.0</th>\n",
       "      <th>3.0</th>\n",
       "      <th>4.0</th>\n",
       "    </tr>\n",
       "    <tr>\n",
       "      <th>RACE</th>\n",
       "      <th></th>\n",
       "      <th></th>\n",
       "      <th></th>\n",
       "      <th></th>\n",
       "      <th></th>\n",
       "    </tr>\n",
       "  </thead>\n",
       "  <tbody>\n",
       "    <tr>\n",
       "      <th>asian</th>\n",
       "      <td>884.0</td>\n",
       "      <td>94.0</td>\n",
       "      <td>668.0</td>\n",
       "      <td>21.0</td>\n",
       "      <td>18.0</td>\n",
       "    </tr>\n",
       "    <tr>\n",
       "      <th>black</th>\n",
       "      <td>4141.0</td>\n",
       "      <td>417.0</td>\n",
       "      <td>2943.0</td>\n",
       "      <td>107.0</td>\n",
       "      <td>68.0</td>\n",
       "    </tr>\n",
       "    <tr>\n",
       "      <th>native</th>\n",
       "      <td>76.0</td>\n",
       "      <td>9.0</td>\n",
       "      <td>55.0</td>\n",
       "      <td>2.0</td>\n",
       "      <td>2.0</td>\n",
       "    </tr>\n",
       "    <tr>\n",
       "      <th>other</th>\n",
       "      <td>19.0</td>\n",
       "      <td>NaN</td>\n",
       "      <td>15.0</td>\n",
       "      <td>NaN</td>\n",
       "      <td>NaN</td>\n",
       "    </tr>\n",
       "    <tr>\n",
       "      <th>white</th>\n",
       "      <td>6270.0</td>\n",
       "      <td>411.0</td>\n",
       "      <td>4788.0</td>\n",
       "      <td>151.0</td>\n",
       "      <td>58.0</td>\n",
       "    </tr>\n",
       "  </tbody>\n",
       "</table>\n",
       "</div>"
      ],
      "text/plain": [
       "Complications     0.0    1.0     2.0    3.0   4.0\n",
       "RACE                                             \n",
       "asian           884.0   94.0   668.0   21.0  18.0\n",
       "black          4141.0  417.0  2943.0  107.0  68.0\n",
       "native           76.0    9.0    55.0    2.0   2.0\n",
       "other            19.0    NaN    15.0    NaN   NaN\n",
       "white          6270.0  411.0  4788.0  151.0  58.0"
      ]
     },
     "execution_count": 35,
     "metadata": {},
     "output_type": "execute_result"
    }
   ],
   "source": [
    "# little bit of statistics to see what the distribution within the different races \n",
    "raceP = pivotingForViz(DPC, 'RACE')\n",
    "raceP"
   ]
  },
  {
   "cell_type": "code",
   "execution_count": 36,
   "id": "946b5db8",
   "metadata": {},
   "outputs": [
    {
     "data": {
      "text/html": [
       "<div>\n",
       "<style scoped>\n",
       "    .dataframe tbody tr th:only-of-type {\n",
       "        vertical-align: middle;\n",
       "    }\n",
       "\n",
       "    .dataframe tbody tr th {\n",
       "        vertical-align: top;\n",
       "    }\n",
       "\n",
       "    .dataframe thead th {\n",
       "        text-align: right;\n",
       "    }\n",
       "</style>\n",
       "<table border=\"1\" class=\"dataframe\">\n",
       "  <thead>\n",
       "    <tr style=\"text-align: right;\">\n",
       "      <th>Complications</th>\n",
       "      <th>0.0</th>\n",
       "      <th>1.0</th>\n",
       "      <th>2.0</th>\n",
       "      <th>3.0</th>\n",
       "      <th>4.0</th>\n",
       "    </tr>\n",
       "    <tr>\n",
       "      <th>GENDER</th>\n",
       "      <th></th>\n",
       "      <th></th>\n",
       "      <th></th>\n",
       "      <th></th>\n",
       "      <th></th>\n",
       "    </tr>\n",
       "  </thead>\n",
       "  <tbody>\n",
       "    <tr>\n",
       "      <th>F</th>\n",
       "      <td>4914</td>\n",
       "      <td>354</td>\n",
       "      <td>3086</td>\n",
       "      <td>56</td>\n",
       "      <td>64</td>\n",
       "    </tr>\n",
       "    <tr>\n",
       "      <th>M</th>\n",
       "      <td>6476</td>\n",
       "      <td>577</td>\n",
       "      <td>5383</td>\n",
       "      <td>225</td>\n",
       "      <td>82</td>\n",
       "    </tr>\n",
       "  </tbody>\n",
       "</table>\n",
       "</div>"
      ],
      "text/plain": [
       "Complications   0.0  1.0   2.0  3.0  4.0\n",
       "GENDER                                  \n",
       "F              4914  354  3086   56   64\n",
       "M              6476  577  5383  225   82"
      ]
     },
     "execution_count": 36,
     "metadata": {},
     "output_type": "execute_result"
    }
   ],
   "source": [
    "# within the gender\n",
    "genderP = pivotingForViz(DPC, 'GENDER')\n",
    "genderP"
   ]
  },
  {
   "cell_type": "code",
   "execution_count": 37,
   "id": "690de694",
   "metadata": {},
   "outputs": [],
   "source": [
    "# see by the age group: first grouping by the age (10 years)\n",
    "DPC['ageGroup'] = np.nan\n",
    "DPC.loc[DPC.age <= 74 , 'ageGroup'] = \"65-74\"\n",
    "DPC.loc[((DPC.age >=75) & (DPC.age <84)), 'ageGroup'] = '75-84'\n",
    "DPC.loc[((DPC.age >=85) & (DPC.age <94)), 'ageGroup'] = '85-94'\n",
    "DPC.loc[(DPC.age >=95), 'ageGroup' ] = 'above 95'"
   ]
  },
  {
   "cell_type": "code",
   "execution_count": 38,
   "id": "dc618dbe",
   "metadata": {},
   "outputs": [
    {
     "data": {
      "text/html": [
       "<div>\n",
       "<style scoped>\n",
       "    .dataframe tbody tr th:only-of-type {\n",
       "        vertical-align: middle;\n",
       "    }\n",
       "\n",
       "    .dataframe tbody tr th {\n",
       "        vertical-align: top;\n",
       "    }\n",
       "\n",
       "    .dataframe thead th {\n",
       "        text-align: right;\n",
       "    }\n",
       "</style>\n",
       "<table border=\"1\" class=\"dataframe\">\n",
       "  <thead>\n",
       "    <tr style=\"text-align: right;\">\n",
       "      <th>Complications</th>\n",
       "      <th>0.0</th>\n",
       "      <th>1.0</th>\n",
       "      <th>2.0</th>\n",
       "      <th>3.0</th>\n",
       "      <th>4.0</th>\n",
       "    </tr>\n",
       "    <tr>\n",
       "      <th>ageGroup</th>\n",
       "      <th></th>\n",
       "      <th></th>\n",
       "      <th></th>\n",
       "      <th></th>\n",
       "      <th></th>\n",
       "    </tr>\n",
       "  </thead>\n",
       "  <tbody>\n",
       "    <tr>\n",
       "      <th>65-74</th>\n",
       "      <td>6617</td>\n",
       "      <td>674</td>\n",
       "      <td>5152</td>\n",
       "      <td>257</td>\n",
       "      <td>136</td>\n",
       "    </tr>\n",
       "    <tr>\n",
       "      <th>75-84</th>\n",
       "      <td>4773</td>\n",
       "      <td>257</td>\n",
       "      <td>3317</td>\n",
       "      <td>24</td>\n",
       "      <td>10</td>\n",
       "    </tr>\n",
       "  </tbody>\n",
       "</table>\n",
       "</div>"
      ],
      "text/plain": [
       "Complications   0.0  1.0   2.0  3.0  4.0\n",
       "ageGroup                                \n",
       "65-74          6617  674  5152  257  136\n",
       "75-84          4773  257  3317   24   10"
      ]
     },
     "execution_count": 38,
     "metadata": {},
     "output_type": "execute_result"
    }
   ],
   "source": [
    "ageP= pivotingForViz(DPC, 'ageGroup')\n",
    "ageP"
   ]
  },
  {
   "cell_type": "code",
   "execution_count": 39,
   "id": "5e5d69be",
   "metadata": {},
   "outputs": [],
   "source": [
    "################### CREATING THE MAIN LIST OF THE PTS OF INTEREST IN GERIATRICS POPULATION ##############\n",
    "ptsList = DPC.PATIENT.unique().tolist()\n"
   ]
  },
  {
   "cell_type": "code",
   "execution_count": 40,
   "id": "f00dc735",
   "metadata": {},
   "outputs": [
    {
     "data": {
      "text/plain": [
       "11390"
      ]
     },
     "execution_count": 40,
     "metadata": {},
     "output_type": "execute_result"
    }
   ],
   "source": [
    "len(ptsList)\n",
    "# just a spot check "
   ]
  },
  {
   "cell_type": "markdown",
   "id": "73e76b40",
   "metadata": {},
   "source": [
    "#### The following lab value and vitals do contribute to development of complication snad needed appropriate managment to reach the goal value for the pts with DM or prediabetis \n",
    "\n",
    "#### Laboratory values -> TR, Cholesterol, High Density Lipoprotein Cholesterol and Low Density Lipoprotein Cholesterol\n",
    "#### Vitals -> BP  \n",
    "\n",
    "So we going to check the values of those parameters and we will aggregate it within a different groups\n"
   ]
  },
  {
   "cell_type": "code",
   "execution_count": 41,
   "id": "f3a20863",
   "metadata": {},
   "outputs": [],
   "source": [
    "# lets see the TR measurments -> high level contibutes to the DM complications\n",
    "# 'Triglycerides'\n",
    "# 'Hypertriglyceridemia (disorder)"
   ]
  },
  {
   "cell_type": "code",
   "execution_count": 42,
   "id": "59374643",
   "metadata": {},
   "outputs": [
    {
     "data": {
      "text/plain": [
       "973"
      ]
     },
     "execution_count": 42,
     "metadata": {},
     "output_type": "execute_result"
    }
   ],
   "source": [
    "# amount of the pts with HTR \n",
    "len(DPC.loc[DPC.DESCRIPTION.str.startswith('Hypertriglyceridemia (disorder)')].PATIENT.unique())\n",
    "\n"
   ]
  },
  {
   "cell_type": "code",
   "execution_count": 43,
   "id": "abb03f9d",
   "metadata": {},
   "outputs": [
    {
     "data": {
      "text/html": [
       "<div>\n",
       "<style scoped>\n",
       "    .dataframe tbody tr th:only-of-type {\n",
       "        vertical-align: middle;\n",
       "    }\n",
       "\n",
       "    .dataframe tbody tr th {\n",
       "        vertical-align: top;\n",
       "    }\n",
       "\n",
       "    .dataframe thead th {\n",
       "        text-align: right;\n",
       "    }\n",
       "</style>\n",
       "<table border=\"1\" class=\"dataframe\">\n",
       "  <thead>\n",
       "    <tr style=\"text-align: right;\">\n",
       "      <th></th>\n",
       "      <th>START</th>\n",
       "      <th>STOP</th>\n",
       "      <th>PATIENT</th>\n",
       "      <th>ENCOUNTER</th>\n",
       "      <th>CODE</th>\n",
       "      <th>DESCRIPTION</th>\n",
       "      <th>VALUE</th>\n",
       "      <th>UNITS</th>\n",
       "      <th>TYPE</th>\n",
       "      <th>PAYER</th>\n",
       "      <th>...</th>\n",
       "      <th>GENDER</th>\n",
       "      <th>BIRTHPLACE</th>\n",
       "      <th>CITY</th>\n",
       "      <th>STATE</th>\n",
       "      <th>COUNTY</th>\n",
       "      <th>HEALTHCARE_EXPENSES</th>\n",
       "      <th>HEALTHCARE_COVERAGE</th>\n",
       "      <th>year</th>\n",
       "      <th>age</th>\n",
       "      <th>ageGroup</th>\n",
       "    </tr>\n",
       "  </thead>\n",
       "  <tbody>\n",
       "  </tbody>\n",
       "</table>\n",
       "<p>0 rows × 35 columns</p>\n",
       "</div>"
      ],
      "text/plain": [
       "Empty DataFrame\n",
       "Columns: [START, STOP, PATIENT, ENCOUNTER, CODE, DESCRIPTION, VALUE, UNITS, TYPE, PAYER, BASE_COST, PAYER_COVERAGE, DISPENSES, TOTALCOST, REASONDESCRIPTION, timeofDiabetesDiag, difference, Complications, BIRTHDATE, DEATHDATE, PREFIX, SUFFIX, MARITAL, RACE, ETHNICITY, GENDER, BIRTHPLACE, CITY, STATE, COUNTY, HEALTHCARE_EXPENSES, HEALTHCARE_COVERAGE, year, age, ageGroup]\n",
       "Index: []\n",
       "\n",
       "[0 rows x 35 columns]"
      ]
     },
     "execution_count": 43,
     "metadata": {},
     "output_type": "execute_result"
    }
   ],
   "source": [
    "# lets see was the TR measured in pts with the HTR \n",
    "TR = DPC.loc[DPC.DESCRIPTION.str.startswith('Hypertriglyceridemia (disorder)')]\n",
    "\n",
    "trV = TR.loc[TR.DESCRIPTION.str.startswith('Triglycerides')]\n",
    "trV\n",
    "\n",
    "# there are 973 pts with Hypertriglyceridemia  and none of them had been measured the TR "
   ]
  },
  {
   "cell_type": "code",
   "execution_count": 44,
   "id": "530e7509",
   "metadata": {},
   "outputs": [
    {
     "data": {
      "text/plain": [
       "243"
      ]
     },
     "execution_count": 44,
     "metadata": {},
     "output_type": "execute_result"
    }
   ],
   "source": [
    "#### lets see the measurments of the pts in DM table \n",
    "\n",
    "trM = DPC.loc[DPC.DESCRIPTION.str.startswith('Triglycerides')].copy()\n",
    "trM.VALUE = trM.VALUE.astype('float')\n",
    "len(trM.PATIENT.unique())"
   ]
  },
  {
   "cell_type": "code",
   "execution_count": 45,
   "id": "99744416",
   "metadata": {},
   "outputs": [
    {
     "data": {
      "text/plain": [
       "32"
      ]
     },
     "execution_count": 45,
     "metadata": {},
     "output_type": "execute_result"
    }
   ],
   "source": [
    "len(trM.loc[trM.VALUE > 150].PATIENT.unique())\n",
    "# only 32 pts is above the prefered line (with abnormal results)  \n"
   ]
  },
  {
   "cell_type": "code",
   "execution_count": 46,
   "id": "ac641014",
   "metadata": {},
   "outputs": [
    {
     "data": {
      "text/plain": [
       "ageGroup\n",
       "65-74    134.359965\n",
       "75-84    208.460000\n",
       "Name: VALUE, dtype: float64"
      ]
     },
     "execution_count": 46,
     "metadata": {},
     "output_type": "execute_result"
    }
   ],
   "source": [
    "### lets see what is average of TR measure is geriatric table \n",
    "trage= trM.groupby(['PATIENT', 'ageGroup']).VALUE.mean()\n",
    "trageV = trage.groupby(['ageGroup']).mean()\n",
    "trageV\n",
    "\n",
    "# older pts in our cohort has higher values compare with younger pts "
   ]
  },
  {
   "cell_type": "code",
   "execution_count": 47,
   "id": "ecb76404",
   "metadata": {},
   "outputs": [
    {
     "data": {
      "text/plain": [
       "GENDER\n",
       "F    132.694500\n",
       "M    135.762583\n",
       "Name: VALUE, dtype: float64"
      ]
     },
     "execution_count": 47,
     "metadata": {},
     "output_type": "execute_result"
    }
   ],
   "source": [
    "### average TR value based on gender \n",
    "trgen = trM.groupby(['PATIENT', 'GENDER']).VALUE.mean()\n",
    "trgen.groupby(['GENDER']).mean()"
   ]
  },
  {
   "cell_type": "code",
   "execution_count": 48,
   "id": "f378ca00",
   "metadata": {},
   "outputs": [
    {
     "data": {
      "text/plain": [
       "RACE\n",
       "asian     140.556111\n",
       "black     138.210676\n",
       "native    146.550000\n",
       "white     131.870545\n",
       "Name: VALUE, dtype: float64"
      ]
     },
     "execution_count": 48,
     "metadata": {},
     "output_type": "execute_result"
    }
   ],
   "source": [
    "# average based on the Race group \n",
    "trR = trM.groupby(['PATIENT', 'RACE']).VALUE.mean()\n",
    "trR.groupby(['RACE']).mean()"
   ]
  },
  {
   "cell_type": "code",
   "execution_count": 49,
   "id": "dba8f388",
   "metadata": {},
   "outputs": [
    {
     "data": {
      "text/plain": [
       "134.73988892451854"
      ]
     },
     "execution_count": 49,
     "metadata": {},
     "output_type": "execute_result"
    }
   ],
   "source": [
    "## just out of curriosity average in table \n",
    "trvalue = trM.groupby(['PATIENT']).VALUE.mean()\n",
    "trvalue.mean()"
   ]
  },
  {
   "cell_type": "code",
   "execution_count": 50,
   "id": "7cb2e657",
   "metadata": {},
   "outputs": [],
   "source": [
    "vitals = ['Systolic Blood Pressure','Diastolic Blood Pressure',\n",
    "         'Hemoglobin A1c/Hemoglobin.total in Blood','Tobacco smoking status NHIS',\n",
    "         'Hemoglobin [Mass/volume] in Blood','Glucose [Mass/volume] in Serum or Plasma',]"
   ]
  },
  {
   "cell_type": "code",
   "execution_count": 51,
   "id": "aeb65875",
   "metadata": {},
   "outputs": [],
   "source": [
    "########### HA1C ##########\n",
    "\n",
    "# to manage the DM and Prediabetes -> recommendation is to obtain HA1c atleast 2ce per year "
   ]
  },
  {
   "cell_type": "code",
   "execution_count": 52,
   "id": "ef8d72c2",
   "metadata": {},
   "outputs": [
    {
     "data": {
      "text/plain": [
       "PATIENT\n",
       "00debc26-922c-387b-d8b5-31fbe64c55d5    10\n",
       "026707cb-0f1e-ea3f-159d-14c59691bb27     8\n",
       "02c9bbdb-0d78-8105-b485-018cefd46f69     3\n",
       "0369f9ee-335c-60cb-9a65-c3276651ebe5     2\n",
       "05513651-c7b2-d58c-04f4-18ad373d9d70     2\n",
       "                                        ..\n",
       "fce7196d-c920-0cbd-2385-a0ef04e1a8c3     2\n",
       "fd2c9214-6d8c-80a4-05cf-dd93fff3b1d6     1\n",
       "fe283f2a-1a17-e006-87f6-66e26b2de4ff     8\n",
       "ff77db2d-1559-a963-0f61-a87a3e70d568     9\n",
       "ffc0740f-5673-cde3-9e3c-0be06a21b533    13\n",
       "Name: DESCRIPTION, Length: 312, dtype: int64"
      ]
     },
     "execution_count": 52,
     "metadata": {},
     "output_type": "execute_result"
    }
   ],
   "source": [
    "DPC.loc[DPC.DESCRIPTION==vitals[2]].groupby(\"PATIENT\").DESCRIPTION.count()\n",
    "## good! we have some pts -> we can check them "
   ]
  },
  {
   "cell_type": "code",
   "execution_count": 53,
   "id": "885c4a5d",
   "metadata": {},
   "outputs": [],
   "source": [
    "ha1c = DPC.loc[DPC.DESCRIPTION==vitals[2]].copy()"
   ]
  },
  {
   "cell_type": "code",
   "execution_count": 54,
   "id": "e5da0f83",
   "metadata": {},
   "outputs": [],
   "source": [
    "ha1c.VALUE = ha1c.VALUE.astype(float)"
   ]
  },
  {
   "cell_type": "code",
   "execution_count": 55,
   "id": "435b1d3a",
   "metadata": {},
   "outputs": [
    {
     "data": {
      "text/plain": [
       "6.068123992282645"
      ]
     },
     "execution_count": 55,
     "metadata": {},
     "output_type": "execute_result"
    }
   ],
   "source": [
    "ha1cValue = ha1c.groupby('PATIENT').VALUE.mean()\n",
    "ha1cValue.mean() # for all patients "
   ]
  },
  {
   "cell_type": "code",
   "execution_count": 56,
   "id": "2df8f08a",
   "metadata": {},
   "outputs": [
    {
     "data": {
      "text/plain": [
       "ageGroup\n",
       "65-74    5.967532\n",
       "75-84    6.142857\n",
       "Name: VALUE, dtype: float64"
      ]
     },
     "execution_count": 56,
     "metadata": {},
     "output_type": "execute_result"
    }
   ],
   "source": [
    "ageVH = ha1c.groupby(['ageGroup']).VALUE.mean()\n",
    "ageVH"
   ]
  },
  {
   "cell_type": "code",
   "execution_count": 57,
   "id": "8b8ff4b4",
   "metadata": {},
   "outputs": [
    {
     "data": {
      "text/plain": [
       "RACE\n",
       "asian     6.074648\n",
       "black     6.050351\n",
       "native    6.100000\n",
       "white     5.945144\n",
       "Name: VALUE, dtype: float64"
      ]
     },
     "execution_count": 57,
     "metadata": {},
     "output_type": "execute_result"
    }
   ],
   "source": [
    "ha1c.groupby(['RACE']).VALUE.mean()"
   ]
  },
  {
   "cell_type": "code",
   "execution_count": 58,
   "id": "f5741583",
   "metadata": {},
   "outputs": [
    {
     "data": {
      "text/plain": [
       "GENDER\n",
       "F    6.090080\n",
       "M    5.945751\n",
       "Name: VALUE, dtype: float64"
      ]
     },
     "execution_count": 58,
     "metadata": {},
     "output_type": "execute_result"
    }
   ],
   "source": [
    "ha1c.groupby(['GENDER']).VALUE.mean()"
   ]
  },
  {
   "cell_type": "code",
   "execution_count": 59,
   "id": "a84ecefa",
   "metadata": {},
   "outputs": [
    {
     "data": {
      "text/plain": [
       "312"
      ]
     },
     "execution_count": 59,
     "metadata": {},
     "output_type": "execute_result"
    }
   ],
   "source": [
    "# lets see how many pts had been checked \n",
    "len(ha1c.PATIENT.unique()) \n",
    "# not much the total is 11390"
   ]
  },
  {
   "cell_type": "code",
   "execution_count": 60,
   "id": "d609a0ba",
   "metadata": {},
   "outputs": [],
   "source": [
    "### let see how ofthen they perfom the H1Ac measurements\n",
    "ha1c['diffHA1c'] = ha1c.groupby('PATIENT').START.diff()"
   ]
  },
  {
   "cell_type": "code",
   "execution_count": 61,
   "id": "d20d9ca5",
   "metadata": {},
   "outputs": [],
   "source": [
    "ha1c['diffHA1c'] =ha1c['diffHA1c'] /pd.Timedelta(1, unit= 'D')"
   ]
  },
  {
   "cell_type": "code",
   "execution_count": 62,
   "id": "701c643f",
   "metadata": {},
   "outputs": [
    {
     "data": {
      "text/html": [
       "<div>\n",
       "<style scoped>\n",
       "    .dataframe tbody tr th:only-of-type {\n",
       "        vertical-align: middle;\n",
       "    }\n",
       "\n",
       "    .dataframe tbody tr th {\n",
       "        vertical-align: top;\n",
       "    }\n",
       "\n",
       "    .dataframe thead th {\n",
       "        text-align: right;\n",
       "    }\n",
       "</style>\n",
       "<table border=\"1\" class=\"dataframe\">\n",
       "  <thead>\n",
       "    <tr style=\"text-align: right;\">\n",
       "      <th></th>\n",
       "      <th>START</th>\n",
       "      <th>STOP</th>\n",
       "      <th>PATIENT</th>\n",
       "      <th>ENCOUNTER</th>\n",
       "      <th>CODE</th>\n",
       "      <th>DESCRIPTION</th>\n",
       "      <th>VALUE</th>\n",
       "      <th>UNITS</th>\n",
       "      <th>TYPE</th>\n",
       "      <th>PAYER</th>\n",
       "      <th>...</th>\n",
       "      <th>BIRTHPLACE</th>\n",
       "      <th>CITY</th>\n",
       "      <th>STATE</th>\n",
       "      <th>COUNTY</th>\n",
       "      <th>HEALTHCARE_EXPENSES</th>\n",
       "      <th>HEALTHCARE_COVERAGE</th>\n",
       "      <th>year</th>\n",
       "      <th>age</th>\n",
       "      <th>ageGroup</th>\n",
       "      <th>diffHA1c</th>\n",
       "    </tr>\n",
       "  </thead>\n",
       "  <tbody>\n",
       "    <tr>\n",
       "      <th>19159941</th>\n",
       "      <td>1999-07-20 14:39:23+00:00</td>\n",
       "      <td>NaT</td>\n",
       "      <td>2169cb94-23a9-7bcc-6139-e1b309a8a955</td>\n",
       "      <td>a494d8fc-7b8d-2ca2-01ab-f04e38ebaa33</td>\n",
       "      <td>4548-4</td>\n",
       "      <td>Hemoglobin A1c/Hemoglobin.total in Blood</td>\n",
       "      <td>6.1</td>\n",
       "      <td>%</td>\n",
       "      <td>numeric</td>\n",
       "      <td>NaN</td>\n",
       "      <td>...</td>\n",
       "      <td>Bladensburg  Maryland  US</td>\n",
       "      <td>Jessup</td>\n",
       "      <td>Maryland</td>\n",
       "      <td>Anne Arundel County</td>\n",
       "      <td>838000.90</td>\n",
       "      <td>3796.90</td>\n",
       "      <td>1999</td>\n",
       "      <td>66</td>\n",
       "      <td>65-74</td>\n",
       "      <td>190.478079</td>\n",
       "    </tr>\n",
       "    <tr>\n",
       "      <th>16649802</th>\n",
       "      <td>2000-08-20 00:31:20+00:00</td>\n",
       "      <td>NaT</td>\n",
       "      <td>52884dff-bbd4-d9e8-3d40-bdf0efa27bfb</td>\n",
       "      <td>d3032208-8b06-121a-de25-4548f5f4f89d</td>\n",
       "      <td>4548-4</td>\n",
       "      <td>Hemoglobin A1c/Hemoglobin.total in Blood</td>\n",
       "      <td>6.3</td>\n",
       "      <td>%</td>\n",
       "      <td>numeric</td>\n",
       "      <td>NaN</td>\n",
       "      <td>...</td>\n",
       "      <td>Severn  Maryland  US</td>\n",
       "      <td>Calverton</td>\n",
       "      <td>Maryland</td>\n",
       "      <td>Montgomery County</td>\n",
       "      <td>980194.92</td>\n",
       "      <td>5398.28</td>\n",
       "      <td>2000</td>\n",
       "      <td>66</td>\n",
       "      <td>65-74</td>\n",
       "      <td>NaN</td>\n",
       "    </tr>\n",
       "  </tbody>\n",
       "</table>\n",
       "<p>2 rows × 36 columns</p>\n",
       "</div>"
      ],
      "text/plain": [
       "                             START STOP                               PATIENT  \\\n",
       "19159941 1999-07-20 14:39:23+00:00  NaT  2169cb94-23a9-7bcc-6139-e1b309a8a955   \n",
       "16649802 2000-08-20 00:31:20+00:00  NaT  52884dff-bbd4-d9e8-3d40-bdf0efa27bfb   \n",
       "\n",
       "                                     ENCOUNTER    CODE  \\\n",
       "19159941  a494d8fc-7b8d-2ca2-01ab-f04e38ebaa33  4548-4   \n",
       "16649802  d3032208-8b06-121a-de25-4548f5f4f89d  4548-4   \n",
       "\n",
       "                                       DESCRIPTION  VALUE UNITS     TYPE  \\\n",
       "19159941  Hemoglobin A1c/Hemoglobin.total in Blood    6.1     %  numeric   \n",
       "16649802  Hemoglobin A1c/Hemoglobin.total in Blood    6.3     %  numeric   \n",
       "\n",
       "         PAYER  ...                 BIRTHPLACE       CITY     STATE  \\\n",
       "19159941   NaN  ...  Bladensburg  Maryland  US     Jessup  Maryland   \n",
       "16649802   NaN  ...       Severn  Maryland  US  Calverton  Maryland   \n",
       "\n",
       "                       COUNTY HEALTHCARE_EXPENSES HEALTHCARE_COVERAGE  year  \\\n",
       "19159941  Anne Arundel County           838000.90             3796.90  1999   \n",
       "16649802    Montgomery County           980194.92             5398.28  2000   \n",
       "\n",
       "          age ageGroup    diffHA1c  \n",
       "19159941   66    65-74  190.478079  \n",
       "16649802   66    65-74         NaN  \n",
       "\n",
       "[2 rows x 36 columns]"
      ]
     },
     "execution_count": 62,
     "metadata": {},
     "output_type": "execute_result"
    }
   ],
   "source": [
    "ha1c.tail(2)"
   ]
  },
  {
   "cell_type": "code",
   "execution_count": 63,
   "id": "0bc521a1",
   "metadata": {},
   "outputs": [
    {
     "data": {
      "text/plain": [
       "487.8587173726913"
      ]
     },
     "execution_count": 63,
     "metadata": {},
     "output_type": "execute_result"
    }
   ],
   "source": [
    "agHA1c = ha1c.groupby('PATIENT').diffHA1c.mean().reset_index()\n",
    "agHA1c.diffHA1c.mean()\n",
    "# per patient the measurements happend every year and 4 month -> too long "
   ]
  },
  {
   "cell_type": "code",
   "execution_count": 64,
   "id": "1dce3c55",
   "metadata": {},
   "outputs": [
    {
     "data": {
      "text/plain": [
       "ageGroup\n",
       "65-74    368.314747\n",
       "75-84    471.560976\n",
       "Name: diffHA1c, dtype: float64"
      ]
     },
     "execution_count": 64,
     "metadata": {},
     "output_type": "execute_result"
    }
   ],
   "source": [
    "ageHa1c = ha1c.groupby('ageGroup').diffHA1c.mean()\n",
    "ageHa1c\n",
    "# so twice per year it is two counts with the 182.5 (365 days/2) days time frame. \n",
    "# aggregation per age group gave as everyyear or year and 3 month duration. \n",
    "# In both cases this average is too long. "
   ]
  },
  {
   "cell_type": "code",
   "execution_count": 65,
   "id": "a30a9171",
   "metadata": {},
   "outputs": [
    {
     "data": {
      "text/plain": [
       "GENDER\n",
       "F    422.948368\n",
       "M    358.941108\n",
       "Name: diffHA1c, dtype: float64"
      ]
     },
     "execution_count": 65,
     "metadata": {},
     "output_type": "execute_result"
    }
   ],
   "source": [
    "# similar logic observed with the gender aggregation \n",
    "ha1c.groupby('GENDER').diffHA1c.mean()"
   ]
  },
  {
   "cell_type": "code",
   "execution_count": 66,
   "id": "d1c4e4ad",
   "metadata": {},
   "outputs": [
    {
     "data": {
      "text/plain": [
       "RACE\n",
       "asian      348.395833\n",
       "black      360.253713\n",
       "native    1099.000000\n",
       "white      388.616121\n",
       "Name: diffHA1c, dtype: float64"
      ]
     },
     "execution_count": 66,
     "metadata": {},
     "output_type": "execute_result"
    }
   ],
   "source": [
    "ha1c.groupby('RACE').diffHA1c.mean()\n",
    "# the race point that native americans has max days "
   ]
  },
  {
   "cell_type": "code",
   "execution_count": 67,
   "id": "874ceda5",
   "metadata": {},
   "outputs": [],
   "source": [
    "############ Cholesterol & H1C & BP \n",
    "Bp = DPC.loc[DPC.DESCRIPTION.isin(vitals[:2])].copy()\n",
    "Bp.VALUE = Bp.VALUE.astype(float)"
   ]
  },
  {
   "cell_type": "code",
   "execution_count": 68,
   "id": "7005b4c0",
   "metadata": {},
   "outputs": [
    {
     "data": {
      "text/plain": [
       "123.4937159484035"
      ]
     },
     "execution_count": 68,
     "metadata": {},
     "output_type": "execute_result"
    }
   ],
   "source": [
    "### systolic BP \n",
    "sys = Bp.loc[Bp.DESCRIPTION.isin([vitals[0]])].groupby(['PATIENT']).VALUE.mean()\n",
    "sys.mean()\n",
    "#### normal systolic BP per pt "
   ]
  },
  {
   "cell_type": "code",
   "execution_count": 69,
   "id": "c2cae0ac",
   "metadata": {},
   "outputs": [
    {
     "data": {
      "text/plain": [
       "123.73995077932732"
      ]
     },
     "execution_count": 69,
     "metadata": {},
     "output_type": "execute_result"
    }
   ],
   "source": [
    "Bp.loc[Bp.DESCRIPTION.isin([vitals[0]])].VALUE.mean()\n",
    "# just a mean in a table without the aggregation per pt -> not a big difference"
   ]
  },
  {
   "cell_type": "code",
   "execution_count": 70,
   "id": "c715b510",
   "metadata": {},
   "outputs": [
    {
     "data": {
      "text/plain": [
       "RACE\n",
       "asian     121.319444\n",
       "black     125.286747\n",
       "native    134.333333\n",
       "white     123.054870\n",
       "Name: VALUE, dtype: float64"
      ]
     },
     "execution_count": 70,
     "metadata": {},
     "output_type": "execute_result"
    }
   ],
   "source": [
    "Bp.loc[Bp.DESCRIPTION.isin([vitals[0]])].groupby(['RACE']).VALUE.mean()\n",
    "# normal BP per race groups"
   ]
  },
  {
   "cell_type": "code",
   "execution_count": 71,
   "id": "2533a7a0",
   "metadata": {},
   "outputs": [
    {
     "data": {
      "text/plain": [
       "GENDER\n",
       "F    124.671159\n",
       "M    123.332547\n",
       "Name: VALUE, dtype: float64"
      ]
     },
     "execution_count": 71,
     "metadata": {},
     "output_type": "execute_result"
    }
   ],
   "source": [
    "Bp.loc[Bp.DESCRIPTION.isin([vitals[0]])].groupby(['GENDER']).VALUE.mean()"
   ]
  },
  {
   "cell_type": "code",
   "execution_count": 72,
   "id": "152b1f0e",
   "metadata": {},
   "outputs": [
    {
     "data": {
      "text/plain": [
       "ageGroup\n",
       "65-74    123.470311\n",
       "75-84    125.550633\n",
       "Name: VALUE, dtype: float64"
      ]
     },
     "execution_count": 72,
     "metadata": {},
     "output_type": "execute_result"
    }
   ],
   "source": [
    "Bp.loc[Bp.DESCRIPTION.isin([vitals[0]])].groupby(['ageGroup']).VALUE.mean()"
   ]
  },
  {
   "cell_type": "code",
   "execution_count": 73,
   "id": "1b9d0e9c",
   "metadata": {},
   "outputs": [
    {
     "data": {
      "text/plain": [
       "82.1994444657906"
      ]
     },
     "execution_count": 73,
     "metadata": {},
     "output_type": "execute_result"
    }
   ],
   "source": [
    "dis = Bp.loc[Bp.DESCRIPTION.isin([vitals[1]])].groupby(['PATIENT']).VALUE.mean()\n",
    "dis.mean()\n",
    "### normal Diastolic bp per pts -> assuming that if Systolic BP is ok within the \n",
    "# groups the Diastolic would be normal too\n"
   ]
  },
  {
   "cell_type": "code",
   "execution_count": 74,
   "id": "83b3f140",
   "metadata": {},
   "outputs": [
    {
     "data": {
      "text/plain": [
       "184.78482836893335"
      ]
     },
     "execution_count": 74,
     "metadata": {},
     "output_type": "execute_result"
    }
   ],
   "source": [
    "##### cholesterol \n",
    "cholPT = DPC.loc[DPC.DESCRIPTION.str.contains('Total Cholesterol')].copy()\n",
    "cholPT.VALUE = cholPT.VALUE.astype(float)\n",
    "chol= cholPT.groupby(['PATIENT']).VALUE.mean()\n",
    "chol.mean()\n",
    "##### pretty high average of CH measure per pts, consider the it should be less 170 \n",
    "# lets see the parameter within the different groups"
   ]
  },
  {
   "cell_type": "code",
   "execution_count": 75,
   "id": "cff17167",
   "metadata": {},
   "outputs": [
    {
     "data": {
      "text/plain": [
       "ageGroup\n",
       "65-74    184.577654\n",
       "75-84    211.670000\n",
       "Name: VALUE, dtype: float64"
      ]
     },
     "execution_count": 75,
     "metadata": {},
     "output_type": "execute_result"
    }
   ],
   "source": [
    "cholA = cholPT.groupby(['PATIENT', 'ageGroup']).VALUE.mean()\n",
    "cholsForViz = cholA.groupby(['ageGroup']).mean()\n",
    "cholsForViz\n",
    "\n",
    "# both age groups values are high, especially older ones "
   ]
  },
  {
   "cell_type": "code",
   "execution_count": 76,
   "id": "835c81bd",
   "metadata": {},
   "outputs": [
    {
     "data": {
      "text/plain": [
       "RACE\n",
       "asian     186.601111\n",
       "black     186.161092\n",
       "native    186.800000\n",
       "white     183.728529\n",
       "Name: VALUE, dtype: float64"
      ]
     },
     "execution_count": 76,
     "metadata": {},
     "output_type": "execute_result"
    }
   ],
   "source": [
    "chR = cholPT.groupby(['PATIENT', 'RACE']).VALUE.mean()\n",
    "chR.groupby(['RACE']).mean()\n",
    "# race gorups are high too "
   ]
  },
  {
   "cell_type": "code",
   "execution_count": 77,
   "id": "56c79f9a",
   "metadata": {},
   "outputs": [
    {
     "data": {
      "text/plain": [
       "GENDER\n",
       "F    183.281155\n",
       "M    185.536665\n",
       "Name: VALUE, dtype: float64"
      ]
     },
     "execution_count": 77,
     "metadata": {},
     "output_type": "execute_result"
    }
   ],
   "source": [
    "chG = cholPT.groupby(['PATIENT', 'GENDER']).VALUE.mean()\n",
    "chG.groupby(['GENDER']).mean()\n",
    "# gender is above average too "
   ]
  },
  {
   "cell_type": "code",
   "execution_count": 78,
   "id": "45f1dc60",
   "metadata": {},
   "outputs": [],
   "source": [
    "##### HDL \n",
    "#'High Density Lipoprotein Cholesterol'"
   ]
  },
  {
   "cell_type": "code",
   "execution_count": 79,
   "id": "7d23a030",
   "metadata": {},
   "outputs": [],
   "source": [
    "hdl = DPC.loc[DPC.DESCRIPTION.str.contains('High Density Lipoprotein Cholesterol')].copy()\n",
    "hdl.VALUE= hdl.VALUE.astype('float')"
   ]
  },
  {
   "cell_type": "code",
   "execution_count": 80,
   "id": "8316a57d",
   "metadata": {},
   "outputs": [
    {
     "data": {
      "text/plain": [
       "243"
      ]
     },
     "execution_count": 80,
     "metadata": {},
     "output_type": "execute_result"
    }
   ],
   "source": [
    "len(hdl.PATIENT.unique())\n",
    "\n",
    "# HDL lab result had been measured only in 243 pts "
   ]
  },
  {
   "cell_type": "code",
   "execution_count": 81,
   "id": "4ffe58f3",
   "metadata": {},
   "outputs": [
    {
     "data": {
      "text/plain": [
       "66.62056079608548"
      ]
     },
     "execution_count": 81,
     "metadata": {},
     "output_type": "execute_result"
    }
   ],
   "source": [
    "hdlA = hdl.groupby(['PATIENT']).VALUE.mean()\n",
    "hdlA.mean()"
   ]
  },
  {
   "cell_type": "code",
   "execution_count": 82,
   "id": "c77c2476",
   "metadata": {},
   "outputs": [
    {
     "data": {
      "text/plain": [
       "ageGroup\n",
       "65-74    66.755662\n",
       "75-84    51.060000\n",
       "Name: VALUE, dtype: float64"
      ]
     },
     "execution_count": 82,
     "metadata": {},
     "output_type": "execute_result"
    }
   ],
   "source": [
    "hdlA = hdl.groupby(['PATIENT', 'ageGroup']).VALUE.mean()\n",
    "hdlA.groupby(['ageGroup']).mean()\n",
    "# Recommendiation for the HDL -> above 60 (the less parameter the worse)\n",
    "# A reading from 41 mg/dL to 59 mg/dL is borderline low.\n",
    "# => the older group had worse parameter "
   ]
  },
  {
   "cell_type": "code",
   "execution_count": 83,
   "id": "0e0ff1d0",
   "metadata": {},
   "outputs": [
    {
     "data": {
      "text/plain": [
       "GENDER\n",
       "F    67.294965\n",
       "M    66.283359\n",
       "Name: VALUE, dtype: float64"
      ]
     },
     "execution_count": 83,
     "metadata": {},
     "output_type": "execute_result"
    }
   ],
   "source": [
    "hdlG = hdl.groupby(['PATIENT', 'GENDER']).VALUE.mean()\n",
    "hdlG.groupby(['GENDER']).mean()"
   ]
  },
  {
   "cell_type": "code",
   "execution_count": 84,
   "id": "c2a157bd",
   "metadata": {},
   "outputs": [
    {
     "data": {
      "text/plain": [
       "RACE\n",
       "asian     65.440000\n",
       "black     66.345288\n",
       "native    74.800000\n",
       "white     66.875300\n",
       "Name: VALUE, dtype: float64"
      ]
     },
     "execution_count": 84,
     "metadata": {},
     "output_type": "execute_result"
    }
   ],
   "source": [
    "hdlR = hdl.groupby(['PATIENT', 'RACE']).VALUE.mean()\n",
    "hdlR.groupby(['RACE']).mean()"
   ]
  },
  {
   "cell_type": "code",
   "execution_count": 85,
   "id": "79a9894c",
   "metadata": {},
   "outputs": [
    {
     "data": {
      "text/plain": [
       "RACE\n",
       "asian     93.051667\n",
       "black     92.180972\n",
       "native    82.700000\n",
       "white     89.647094\n",
       "Name: VALUE, dtype: float64"
      ]
     },
     "execution_count": 85,
     "metadata": {},
     "output_type": "execute_result"
    }
   ],
   "source": [
    "#Low Density Lipoprotein Cholesterol\n",
    "\n",
    "\n",
    "ldl = DPC.loc[DPC.DESCRIPTION.str.contains('Low')].copy()\n",
    "ldl.VALUE= ldl.VALUE.astype('float')\n",
    "\n",
    "ldlR = ldl.groupby(['PATIENT', 'RACE']).VALUE.mean()\n",
    "ldlR.groupby(['RACE']).mean()\n",
    "\n",
    "## ldld should be less than 100 mg/dL"
   ]
  },
  {
   "cell_type": "code",
   "execution_count": 86,
   "id": "4299aec1",
   "metadata": {},
   "outputs": [
    {
     "data": {
      "text/plain": [
       "GENDER\n",
       "F    88.012169\n",
       "M    92.108273\n",
       "Name: VALUE, dtype: float64"
      ]
     },
     "execution_count": 86,
     "metadata": {},
     "output_type": "execute_result"
    }
   ],
   "source": [
    "ldlg = ldl.groupby(['PATIENT', 'GENDER']).VALUE.mean()\n",
    "ldlg.groupby(['GENDER']).mean()"
   ]
  },
  {
   "cell_type": "code",
   "execution_count": 87,
   "id": "eb7db955",
   "metadata": {},
   "outputs": [
    {
     "data": {
      "text/plain": [
       "ageGroup\n",
       "65-74     90.800703\n",
       "75-84    100.600000\n",
       "Name: VALUE, dtype: float64"
      ]
     },
     "execution_count": 87,
     "metadata": {},
     "output_type": "execute_result"
    }
   ],
   "source": [
    "ldlA = ldl.groupby(['PATIENT', 'ageGroup']).VALUE.mean()\n",
    "ldlA.groupby(['ageGroup']).mean()\n",
    "\n",
    "# only for older pts the value is raising "
   ]
  },
  {
   "cell_type": "markdown",
   "id": "bcde8b7e",
   "metadata": {},
   "source": [
    "### We identify geriatrics DM pts with the high Ch measurments and small number of the HDL and borderline LDL values . \n",
    "\" The 2018 American Heart Association (AHA)/American College of Cardiology (ACC)/ Multisociety guidelines for lipid management provide revised recommendations for the prevention of atherosclerotic cardiovascular disease (ASCVD). In primary prevention, statins are recommended for patients with LDL-C levels ≥190 mg/dL, patients with diabetes mellitus aged 40-75 years, and for those with no diabetes with LDL-C levels ≥70 mg/dL - <190mg/dL and 10-year ASCVD risk ≥7.5%.\" (https://www.acc.org/latest-in-cardiology/articles/2020/10/27/12/38/poll-results-when-do-you-start-statin-therapy-in-a-person-with-diabetes#:~:text=In%20primary%20prevention%2C%20statins%20are,year%20ASCVD%20risk%20%E2%89%A57.5%25.)\n"
   ]
  },
  {
   "cell_type": "code",
   "execution_count": 88,
   "id": "e51f1702",
   "metadata": {},
   "outputs": [
    {
     "data": {
      "text/plain": [
       "18"
      ]
     },
     "execution_count": 88,
     "metadata": {},
     "output_type": "execute_result"
    }
   ],
   "source": [
    "# so lets see how many had been prescribed with statins \n",
    "\n",
    "len(DPC.loc[DPC.DESCRIPTION.str.contains('statin')].PATIENT.unique())\n",
    "\n",
    "# amount of people with statin medication -> lowering the LDL -> to prevent the cardio complications\n",
    "# total number of diabetic/prediabetic pts 11390 "
   ]
  },
  {
   "cell_type": "code",
   "execution_count": 89,
   "id": "8e5a430e",
   "metadata": {},
   "outputs": [],
   "source": [
    "##### Smoking status \n"
   ]
  },
  {
   "cell_type": "code",
   "execution_count": 90,
   "id": "8f84cc3f",
   "metadata": {},
   "outputs": [],
   "source": [
    "smoke = DPC.loc[(DPC.DESCRIPTION.str.contains('Smokes tobacco daily')) \n",
    "        | DPC.DESCRIPTION.str.contains('Tobacco smoking status NHIS')]"
   ]
  },
  {
   "cell_type": "code",
   "execution_count": 91,
   "id": "415e082a",
   "metadata": {},
   "outputs": [],
   "source": [
    "smokeList = smoke.PATIENT.unique()"
   ]
  },
  {
   "cell_type": "code",
   "execution_count": 92,
   "id": "c4122553",
   "metadata": {},
   "outputs": [
    {
     "data": {
      "text/html": [
       "<div>\n",
       "<style scoped>\n",
       "    .dataframe tbody tr th:only-of-type {\n",
       "        vertical-align: middle;\n",
       "    }\n",
       "\n",
       "    .dataframe tbody tr th {\n",
       "        vertical-align: top;\n",
       "    }\n",
       "\n",
       "    .dataframe thead th {\n",
       "        text-align: right;\n",
       "    }\n",
       "</style>\n",
       "<table border=\"1\" class=\"dataframe\">\n",
       "  <thead>\n",
       "    <tr style=\"text-align: right;\">\n",
       "      <th></th>\n",
       "      <th>START</th>\n",
       "      <th>STOP</th>\n",
       "      <th>PATIENT</th>\n",
       "      <th>ENCOUNTER</th>\n",
       "      <th>CODE</th>\n",
       "      <th>DESCRIPTION</th>\n",
       "      <th>VALUE</th>\n",
       "      <th>UNITS</th>\n",
       "      <th>TYPE</th>\n",
       "      <th>PAYER</th>\n",
       "      <th>...</th>\n",
       "      <th>GENDER</th>\n",
       "      <th>BIRTHPLACE</th>\n",
       "      <th>CITY</th>\n",
       "      <th>STATE</th>\n",
       "      <th>COUNTY</th>\n",
       "      <th>HEALTHCARE_EXPENSES</th>\n",
       "      <th>HEALTHCARE_COVERAGE</th>\n",
       "      <th>year</th>\n",
       "      <th>age</th>\n",
       "      <th>ageGroup</th>\n",
       "    </tr>\n",
       "  </thead>\n",
       "  <tbody>\n",
       "    <tr>\n",
       "      <th>6203</th>\n",
       "      <td>1942-12-27 00:00:00+00:00</td>\n",
       "      <td>NaT</td>\n",
       "      <td>5ca55499-b6c1-9ad8-c62b-b26b446582bf</td>\n",
       "      <td>ecb40657-9aac-3e8f-c3c3-95b259c8390d</td>\n",
       "      <td>449868002</td>\n",
       "      <td>Smokes tobacco daily</td>\n",
       "      <td>NaN</td>\n",
       "      <td>NaN</td>\n",
       "      <td>NaN</td>\n",
       "      <td>NaN</td>\n",
       "      <td>...</td>\n",
       "      <td>M</td>\n",
       "      <td>Waldorf  Maryland  US</td>\n",
       "      <td>West Laurel</td>\n",
       "      <td>Maryland</td>\n",
       "      <td>Prince George's County</td>\n",
       "      <td>1736743.26</td>\n",
       "      <td>4594.41</td>\n",
       "      <td>1942</td>\n",
       "      <td>79</td>\n",
       "      <td>75-84</td>\n",
       "    </tr>\n",
       "    <tr>\n",
       "      <th>22296194</th>\n",
       "      <td>1945-05-01 04:12:02+00:00</td>\n",
       "      <td>NaT</td>\n",
       "      <td>255d37c6-5a88-2616-2673-ac05c2f4c71c</td>\n",
       "      <td>f47d91df-878d-e987-ae7d-72c4bba999bf</td>\n",
       "      <td>72166-2</td>\n",
       "      <td>Tobacco smoking status NHIS</td>\n",
       "      <td>Former smoker</td>\n",
       "      <td>NaN</td>\n",
       "      <td>text</td>\n",
       "      <td>NaN</td>\n",
       "      <td>...</td>\n",
       "      <td>F</td>\n",
       "      <td>Crofton  Maryland  US</td>\n",
       "      <td>Cockeysville</td>\n",
       "      <td>Maryland</td>\n",
       "      <td>Baltimore County</td>\n",
       "      <td>74397.53</td>\n",
       "      <td>2407.55</td>\n",
       "      <td>1945</td>\n",
       "      <td>81</td>\n",
       "      <td>75-84</td>\n",
       "    </tr>\n",
       "    <tr>\n",
       "      <th>10943183</th>\n",
       "      <td>1945-06-02 20:09:39+00:00</td>\n",
       "      <td>NaT</td>\n",
       "      <td>955dc166-4dad-6748-8b2c-c1955e97f9ee</td>\n",
       "      <td>ab61172b-a18a-6570-0a56-d60a63be64fb</td>\n",
       "      <td>72166-2</td>\n",
       "      <td>Tobacco smoking status NHIS</td>\n",
       "      <td>Former smoker</td>\n",
       "      <td>NaN</td>\n",
       "      <td>text</td>\n",
       "      <td>NaN</td>\n",
       "      <td>...</td>\n",
       "      <td>M</td>\n",
       "      <td>Robinwood  Maryland  US</td>\n",
       "      <td>Baltimore</td>\n",
       "      <td>Maryland</td>\n",
       "      <td>Baltimore city</td>\n",
       "      <td>4940.31</td>\n",
       "      <td>0.00</td>\n",
       "      <td>1945</td>\n",
       "      <td>78</td>\n",
       "      <td>75-84</td>\n",
       "    </tr>\n",
       "  </tbody>\n",
       "</table>\n",
       "<p>3 rows × 35 columns</p>\n",
       "</div>"
      ],
      "text/plain": [
       "                             START STOP                               PATIENT  \\\n",
       "6203     1942-12-27 00:00:00+00:00  NaT  5ca55499-b6c1-9ad8-c62b-b26b446582bf   \n",
       "22296194 1945-05-01 04:12:02+00:00  NaT  255d37c6-5a88-2616-2673-ac05c2f4c71c   \n",
       "10943183 1945-06-02 20:09:39+00:00  NaT  955dc166-4dad-6748-8b2c-c1955e97f9ee   \n",
       "\n",
       "                                     ENCOUNTER       CODE  \\\n",
       "6203      ecb40657-9aac-3e8f-c3c3-95b259c8390d  449868002   \n",
       "22296194  f47d91df-878d-e987-ae7d-72c4bba999bf    72166-2   \n",
       "10943183  ab61172b-a18a-6570-0a56-d60a63be64fb    72166-2   \n",
       "\n",
       "                          DESCRIPTION          VALUE UNITS  TYPE PAYER  ...  \\\n",
       "6203             Smokes tobacco daily            NaN   NaN   NaN   NaN  ...   \n",
       "22296194  Tobacco smoking status NHIS  Former smoker   NaN  text   NaN  ...   \n",
       "10943183  Tobacco smoking status NHIS  Former smoker   NaN  text   NaN  ...   \n",
       "\n",
       "          GENDER               BIRTHPLACE          CITY     STATE  \\\n",
       "6203           M    Waldorf  Maryland  US   West Laurel  Maryland   \n",
       "22296194       F    Crofton  Maryland  US  Cockeysville  Maryland   \n",
       "10943183       M  Robinwood  Maryland  US     Baltimore  Maryland   \n",
       "\n",
       "                          COUNTY HEALTHCARE_EXPENSES HEALTHCARE_COVERAGE  \\\n",
       "6203      Prince George's County          1736743.26             4594.41   \n",
       "22296194        Baltimore County            74397.53             2407.55   \n",
       "10943183          Baltimore city             4940.31                0.00   \n",
       "\n",
       "          year age ageGroup  \n",
       "6203      1942  79    75-84  \n",
       "22296194  1945  81    75-84  \n",
       "10943183  1945  78    75-84  \n",
       "\n",
       "[3 rows x 35 columns]"
      ]
     },
     "execution_count": 92,
     "metadata": {},
     "output_type": "execute_result"
    }
   ],
   "source": [
    "smoke.head(3)"
   ]
  },
  {
   "cell_type": "code",
   "execution_count": 93,
   "id": "bc448b56",
   "metadata": {},
   "outputs": [
    {
     "data": {
      "text/html": [
       "<div>\n",
       "<style scoped>\n",
       "    .dataframe tbody tr th:only-of-type {\n",
       "        vertical-align: middle;\n",
       "    }\n",
       "\n",
       "    .dataframe tbody tr th {\n",
       "        vertical-align: top;\n",
       "    }\n",
       "\n",
       "    .dataframe thead th {\n",
       "        text-align: right;\n",
       "    }\n",
       "</style>\n",
       "<table border=\"1\" class=\"dataframe\">\n",
       "  <thead>\n",
       "    <tr style=\"text-align: right;\">\n",
       "      <th></th>\n",
       "      <th>PATIENT</th>\n",
       "      <th>DESCRIPTION</th>\n",
       "      <th>VALUE</th>\n",
       "      <th>0</th>\n",
       "    </tr>\n",
       "  </thead>\n",
       "  <tbody>\n",
       "    <tr>\n",
       "      <th>0</th>\n",
       "      <td>001e67cc-69c5-c59d-a829-841d93c486a8</td>\n",
       "      <td>Smokes tobacco daily</td>\n",
       "      <td>NaN</td>\n",
       "      <td>1</td>\n",
       "    </tr>\n",
       "    <tr>\n",
       "      <th>1</th>\n",
       "      <td>00debc26-922c-387b-d8b5-31fbe64c55d5</td>\n",
       "      <td>Tobacco smoking status NHIS</td>\n",
       "      <td>Former smoker</td>\n",
       "      <td>10</td>\n",
       "    </tr>\n",
       "    <tr>\n",
       "      <th>2</th>\n",
       "      <td>026707cb-0f1e-ea3f-159d-14c59691bb27</td>\n",
       "      <td>Tobacco smoking status NHIS</td>\n",
       "      <td>Never smoker</td>\n",
       "      <td>8</td>\n",
       "    </tr>\n",
       "    <tr>\n",
       "      <th>3</th>\n",
       "      <td>02c9bbdb-0d78-8105-b485-018cefd46f69</td>\n",
       "      <td>Tobacco smoking status NHIS</td>\n",
       "      <td>Never smoker</td>\n",
       "      <td>3</td>\n",
       "    </tr>\n",
       "    <tr>\n",
       "      <th>4</th>\n",
       "      <td>03262e45-f437-7441-7a43-476a0419d97f</td>\n",
       "      <td>Smokes tobacco daily</td>\n",
       "      <td>NaN</td>\n",
       "      <td>1</td>\n",
       "    </tr>\n",
       "    <tr>\n",
       "      <th>...</th>\n",
       "      <td>...</td>\n",
       "      <td>...</td>\n",
       "      <td>...</td>\n",
       "      <td>...</td>\n",
       "    </tr>\n",
       "    <tr>\n",
       "      <th>438</th>\n",
       "      <td>fce7196d-c920-0cbd-2385-a0ef04e1a8c3</td>\n",
       "      <td>Tobacco smoking status NHIS</td>\n",
       "      <td>Former smoker</td>\n",
       "      <td>2</td>\n",
       "    </tr>\n",
       "    <tr>\n",
       "      <th>439</th>\n",
       "      <td>fd2c9214-6d8c-80a4-05cf-dd93fff3b1d6</td>\n",
       "      <td>Tobacco smoking status NHIS</td>\n",
       "      <td>Never smoker</td>\n",
       "      <td>1</td>\n",
       "    </tr>\n",
       "    <tr>\n",
       "      <th>440</th>\n",
       "      <td>fe283f2a-1a17-e006-87f6-66e26b2de4ff</td>\n",
       "      <td>Tobacco smoking status NHIS</td>\n",
       "      <td>Former smoker</td>\n",
       "      <td>8</td>\n",
       "    </tr>\n",
       "    <tr>\n",
       "      <th>441</th>\n",
       "      <td>ff77db2d-1559-a963-0f61-a87a3e70d568</td>\n",
       "      <td>Tobacco smoking status NHIS</td>\n",
       "      <td>Former smoker</td>\n",
       "      <td>9</td>\n",
       "    </tr>\n",
       "    <tr>\n",
       "      <th>442</th>\n",
       "      <td>ffc0740f-5673-cde3-9e3c-0be06a21b533</td>\n",
       "      <td>Tobacco smoking status NHIS</td>\n",
       "      <td>Never smoker</td>\n",
       "      <td>6</td>\n",
       "    </tr>\n",
       "  </tbody>\n",
       "</table>\n",
       "<p>443 rows × 4 columns</p>\n",
       "</div>"
      ],
      "text/plain": [
       "                                  PATIENT                  DESCRIPTION  \\\n",
       "0    001e67cc-69c5-c59d-a829-841d93c486a8         Smokes tobacco daily   \n",
       "1    00debc26-922c-387b-d8b5-31fbe64c55d5  Tobacco smoking status NHIS   \n",
       "2    026707cb-0f1e-ea3f-159d-14c59691bb27  Tobacco smoking status NHIS   \n",
       "3    02c9bbdb-0d78-8105-b485-018cefd46f69  Tobacco smoking status NHIS   \n",
       "4    03262e45-f437-7441-7a43-476a0419d97f         Smokes tobacco daily   \n",
       "..                                    ...                          ...   \n",
       "438  fce7196d-c920-0cbd-2385-a0ef04e1a8c3  Tobacco smoking status NHIS   \n",
       "439  fd2c9214-6d8c-80a4-05cf-dd93fff3b1d6  Tobacco smoking status NHIS   \n",
       "440  fe283f2a-1a17-e006-87f6-66e26b2de4ff  Tobacco smoking status NHIS   \n",
       "441  ff77db2d-1559-a963-0f61-a87a3e70d568  Tobacco smoking status NHIS   \n",
       "442  ffc0740f-5673-cde3-9e3c-0be06a21b533  Tobacco smoking status NHIS   \n",
       "\n",
       "             VALUE   0  \n",
       "0              NaN   1  \n",
       "1    Former smoker  10  \n",
       "2     Never smoker   8  \n",
       "3     Never smoker   3  \n",
       "4              NaN   1  \n",
       "..             ...  ..  \n",
       "438  Former smoker   2  \n",
       "439   Never smoker   1  \n",
       "440  Former smoker   8  \n",
       "441  Former smoker   9  \n",
       "442   Never smoker   6  \n",
       "\n",
       "[443 rows x 4 columns]"
      ]
     },
     "execution_count": 93,
     "metadata": {},
     "output_type": "execute_result"
    }
   ],
   "source": [
    "# issue in table  -> see the solution bellow \n",
    "smoke.groupby(['PATIENT', 'DESCRIPTION', 'VALUE'],dropna=False).size().reset_index()"
   ]
  },
  {
   "cell_type": "code",
   "execution_count": 94,
   "id": "cf7266aa",
   "metadata": {},
   "outputs": [
    {
     "data": {
      "text/plain": [
       "Former smoker               157\n",
       "Never smoker                153\n",
       "Smokes tobacco daily        131\n",
       "Current every day smoker      2\n",
       "Name: VALUE, dtype: int64"
      ]
     },
     "execution_count": 94,
     "metadata": {},
     "output_type": "execute_result"
    }
   ],
   "source": [
    "smokedf = smoke.groupby(['PATIENT', 'DESCRIPTION', 'VALUE'],dropna=False).size().reset_index()\n",
    "smokedf.loc[smokedf.VALUE.isna(), 'VALUE'] = smokedf.loc[smokedf.VALUE.isna(), 'DESCRIPTION']\n",
    "smokedf.VALUE.value_counts()"
   ]
  },
  {
   "cell_type": "code",
   "execution_count": 95,
   "id": "d406336d",
   "metadata": {},
   "outputs": [
    {
     "data": {
      "text/plain": [
       "40"
      ]
     },
     "execution_count": 95,
     "metadata": {},
     "output_type": "execute_result"
    }
   ],
   "source": [
    "# let see the pts with in each complication group \n",
    "# the diabetis group \n",
    "len(DPC.loc[(DPC.PATIENT.isin(smokeList)) & (DPC.Complications==1)].PATIENT.unique())"
   ]
  },
  {
   "cell_type": "markdown",
   "id": "a7853348",
   "metadata": {},
   "source": [
    "### NOTE: run first cell after the anemia sign cell -> cell 106"
   ]
  },
  {
   "cell_type": "code",
   "execution_count": 98,
   "id": "a21418c6",
   "metadata": {},
   "outputs": [
    {
     "data": {
      "text/plain": [
       "349"
      ]
     },
     "execution_count": 98,
     "metadata": {},
     "output_type": "execute_result"
    }
   ],
   "source": [
    "# run first cell in anemia group before running this cell \n",
    "\n",
    "# in anemia group \n",
    "len(DPC.loc[(DPC.PATIENT.isin(smokeList)) & (DPC.PATIENT.isin(anemiaPt))].PATIENT.unique())"
   ]
  },
  {
   "cell_type": "code",
   "execution_count": 99,
   "id": "1073c7b4",
   "metadata": {},
   "outputs": [],
   "source": [
    "smokeAnemia = DPC.loc[(DPC.PATIENT.isin(anemiaPt) & (DPC.PATIENT.isin(smokeList)))].copy()\n",
    "\n",
    "smokeAnemia.loc[smokeAnemia.VALUE.isna(), 'VALUE'] = smokeAnemia.loc[smokeAnemia.VALUE.isna(), 'DESCRIPTION']"
   ]
  },
  {
   "cell_type": "code",
   "execution_count": 100,
   "id": "ff3ad820",
   "metadata": {},
   "outputs": [
    {
     "data": {
      "text/plain": [
       "Smokes tobacco daily        120\n",
       "Never smoker                116\n",
       "Former smoker               114\n",
       "Current every day smoker      1\n",
       "Name: VALUE, dtype: int64"
      ]
     },
     "execution_count": 100,
     "metadata": {},
     "output_type": "execute_result"
    }
   ],
   "source": [
    "smokeCount = smokeAnemia.loc[(smokeAnemia.DESCRIPTION.str.contains('Smokes tobacco daily')) \n",
    "        | smokeAnemia.DESCRIPTION.str.contains('Tobacco smoking status NHIS')].groupby(['PATIENT', 'VALUE']).size().reset_index()\n",
    "\n",
    "smokeCount.VALUE.value_counts()\n",
    "\n",
    "# distributionin anemia group -> 120 smokes daily \n"
   ]
  },
  {
   "cell_type": "code",
   "execution_count": 101,
   "id": "a880b8d7",
   "metadata": {},
   "outputs": [
    {
     "data": {
      "text/plain": [
       "25"
      ]
     },
     "execution_count": 101,
     "metadata": {},
     "output_type": "execute_result"
    }
   ],
   "source": [
    "# group with the retinopathy \n",
    "len(DPC.loc[(DPC.PATIENT.isin(smokeList)) & (DPC.Complications==3)].PATIENT.unique())"
   ]
  },
  {
   "cell_type": "code",
   "execution_count": 102,
   "id": "dc3368a1",
   "metadata": {},
   "outputs": [
    {
     "data": {
      "text/plain": [
       "1"
      ]
     },
     "execution_count": 102,
     "metadata": {},
     "output_type": "execute_result"
    }
   ],
   "source": [
    "# kidney complication \n",
    "len(DPC.loc[(DPC.PATIENT.isin(smokeList)) & (DPC.Complications==4)].PATIENT.unique())"
   ]
  },
  {
   "cell_type": "code",
   "execution_count": 103,
   "id": "310b5a75",
   "metadata": {},
   "outputs": [],
   "source": [
    "# Smoking status is not helpful -> since too many NaN values and issue with the values "
   ]
  },
  {
   "cell_type": "code",
   "execution_count": 104,
   "id": "5751509b",
   "metadata": {},
   "outputs": [],
   "source": [
    "vitals = ['Systolic Blood Pressure','Diastolic Blood Pressure',\n",
    "         'Hemoglobin A1c/Hemoglobin.total in Blood','Tobacco smoking status NHIS',\n",
    "         'Hemoglobin [Mass/volume] in Blood','Glucose [Mass/volume] in Serum or Plasma',]"
   ]
  },
  {
   "cell_type": "markdown",
   "id": "327f6827",
   "metadata": {},
   "source": [
    "### DESCRIPTIVE ANALYSIS AND VISUALIZATION "
   ]
  },
  {
   "cell_type": "markdown",
   "id": "f56a678b",
   "metadata": {},
   "source": [
    "### ANEMIA "
   ]
  },
  {
   "cell_type": "code",
   "execution_count": 105,
   "id": "4d7989ce",
   "metadata": {},
   "outputs": [],
   "source": [
    "# development of the anemia \n",
    "anemiaPt = DPC.loc[DPC.Complications == 2].PATIENT.unique().tolist() # pts with anemia \n",
    "\n",
    "anemia = DPC.loc[DPC.PATIENT.isin(anemiaPt),['START', 'STOP', 'PATIENT', 'ENCOUNTER', 'DESCRIPTION',\n",
    "       'VALUE', 'difference','RACE', 'ETHNICITY', 'GENDER','age', 'ageGroup', 'year']].sort_values(by = \"START\")\n",
    "anemia['differrenceYear'] = anemia['difference']/pd.Timedelta(365)\n",
    "anemia['differrenceYear'] = anemia['differrenceYear'].round(2)"
   ]
  },
  {
   "cell_type": "code",
   "execution_count": 106,
   "id": "79f7c62e",
   "metadata": {},
   "outputs": [
    {
     "data": {
      "text/plain": [
       "8469"
      ]
     },
     "execution_count": 106,
     "metadata": {},
     "output_type": "execute_result"
    }
   ],
   "source": [
    "# number of pts with anemia from all table \n",
    "len(anemia.PATIENT.unique())"
   ]
  },
  {
   "cell_type": "markdown",
   "id": "8929095a",
   "metadata": {},
   "source": [
    "#### For pts with Prediabetes or DM metformin one of the common drug to lower glucose, however, it is may cause anemia \n"
   ]
  },
  {
   "cell_type": "code",
   "execution_count": 107,
   "id": "a7836156",
   "metadata": {},
   "outputs": [
    {
     "data": {
      "text/plain": [
       "279"
      ]
     },
     "execution_count": 107,
     "metadata": {},
     "output_type": "execute_result"
    }
   ],
   "source": [
    "len(anemia.loc[anemia.DESCRIPTION.str.contains('Metformin')].PATIENT.unique())\n",
    "# number of pts with metformin prescription -> not much -> can assume it is olderly anemia \n",
    "# due to lifestayle and nutrision problems "
   ]
  },
  {
   "cell_type": "code",
   "execution_count": 108,
   "id": "904239f6",
   "metadata": {},
   "outputs": [],
   "source": [
    "# those two medication had been found in db \n",
    "anemiaTreatment = ['Vitamin B 12 5 MG/ML Injectable Solution','ferrous sulfate 325 MG Oral Tablet',]\n"
   ]
  },
  {
   "cell_type": "code",
   "execution_count": 109,
   "id": "cb6f6333",
   "metadata": {},
   "outputs": [
    {
     "data": {
      "text/plain": [
       "1677"
      ]
     },
     "execution_count": 109,
     "metadata": {},
     "output_type": "execute_result"
    }
   ],
   "source": [
    "# the anemia treatment includes only the VIt B 12 injection and only for the 22 anemic pts \n",
    "len(anemia.loc[anemia.DESCRIPTION.isin(anemiaTreatment)].PATIENT.unique())"
   ]
  },
  {
   "cell_type": "code",
   "execution_count": 110,
   "id": "a5a5b3ec",
   "metadata": {},
   "outputs": [
    {
     "data": {
      "text/plain": [
       "279"
      ]
     },
     "execution_count": 110,
     "metadata": {},
     "output_type": "execute_result"
    }
   ],
   "source": [
    "### pts with no treatment and with metformin treatment \n",
    "\n",
    "notreatment = anemia.loc[~anemia.DESCRIPTION.isin(anemiaTreatment)]\n",
    "len(notreatment.loc[notreatment.DESCRIPTION.str.contains('Metformin')].PATIENT.unique())"
   ]
  },
  {
   "cell_type": "code",
   "execution_count": 111,
   "id": "3486298f",
   "metadata": {},
   "outputs": [],
   "source": [
    "### hg measurment \n",
    "hg = anemia.loc[anemia.DESCRIPTION==vitals[4]].copy()\n",
    "hg.VALUE =hg.VALUE.astype(float)"
   ]
  },
  {
   "cell_type": "code",
   "execution_count": 112,
   "id": "4ff79301",
   "metadata": {},
   "outputs": [
    {
     "data": {
      "text/plain": [
       "205"
      ]
     },
     "execution_count": 112,
     "metadata": {},
     "output_type": "execute_result"
    }
   ],
   "source": [
    "len(hg.PATIENT.unique())\n",
    "# number of pts with the Hg measurments from the 1677 anemic pts "
   ]
  },
  {
   "cell_type": "code",
   "execution_count": 113,
   "id": "20216772",
   "metadata": {},
   "outputs": [
    {
     "data": {
      "text/plain": [
       "142"
      ]
     },
     "execution_count": 113,
     "metadata": {},
     "output_type": "execute_result"
    }
   ],
   "source": [
    "# within those pts who had been measurmed with the Hg let see the how many was with low values bellow normal range \n",
    "\n",
    "len(hg.loc[(hg.VALUE <12) &\n",
    "           (hg.GENDER == 'F')].PATIENT.unique()) +len(hg.loc[(hg.VALUE <13) \n",
    "                                                             & (hg.GENDER == 'M')].PATIENT.unique())\n",
    "# number of pts with low Hg measurments "
   ]
  },
  {
   "cell_type": "code",
   "execution_count": 114,
   "id": "8f604d92",
   "metadata": {},
   "outputs": [
    {
     "data": {
      "text/plain": [
       "array(['02c9bbdb-0d78-8105-b485-018cefd46f69',\n",
       "       '490680df-fdf5-f017-7dbd-663eddfbcc31'], dtype=object)"
      ]
     },
     "execution_count": 114,
     "metadata": {},
     "output_type": "execute_result"
    }
   ],
   "source": [
    "# lets see some pts with who had been recovered \n",
    "ptCompliteAN = anemia.loc[anemia.DESCRIPTION.str.contains('Anemia') & anemia.STOP.notna()].PATIENT.unique()\n",
    "ptCompliteAN \n",
    "# only two pts who had been recovered from anemia -> the rest is unknown "
   ]
  },
  {
   "cell_type": "code",
   "execution_count": 115,
   "id": "fbc2c812",
   "metadata": {},
   "outputs": [],
   "source": [
    "# total number of pts with the measured Hgb is 205 -> however only 142 of \n",
    "# them has low value of the hgb and only 2 pts had been documented with end of the anemia day \n"
   ]
  },
  {
   "cell_type": "code",
   "execution_count": 116,
   "id": "55895d51",
   "metadata": {},
   "outputs": [
    {
     "data": {
      "text/plain": [
       "1.2349397590361446"
      ]
     },
     "execution_count": 116,
     "metadata": {},
     "output_type": "execute_result"
    }
   ],
   "source": [
    "counthg = hg.groupby(['PATIENT', 'year'])['VALUE'].count().reset_index()\n",
    "counthg.VALUE.mean() # average of the Hg measurment per year "
   ]
  },
  {
   "cell_type": "code",
   "execution_count": 117,
   "id": "bf9ca245",
   "metadata": {},
   "outputs": [
    {
     "data": {
      "image/png": "[encoded data removed]",
      "text/plain": [
       "<Figure size 360x360 with 1 Axes>"
      ]
     },
     "metadata": {
      "needs_background": "light"
     },
     "output_type": "display_data"
    }
   ],
   "source": [
    "import matplotlib.pyplot as plt\n",
    "import seaborn as sns\n",
    "sns.catplot(x = 'GENDER',y = 'VALUE' , data=hg[['GENDER', 'VALUE']])\n",
    "plt.show()\n",
    "# the distribution of hbd values in table  "
   ]
  },
  {
   "cell_type": "code",
   "execution_count": 118,
   "id": "d163e857",
   "metadata": {},
   "outputs": [],
   "source": [
    "# lets see how the different parameters we looked at contribute more or less to the anemia complication"
   ]
  },
  {
   "cell_type": "code",
   "execution_count": 119,
   "id": "4d29358b",
   "metadata": {},
   "outputs": [
    {
     "data": {
      "text/html": [
       "<table class=\"simpletable\">\n",
       "<caption>OLS Regression Results</caption>\n",
       "<tr>\n",
       "  <th>Dep. Variable:</th>     <td>differrenceYear</td> <th>  R-squared:         </th>  <td>   0.260</td>  \n",
       "</tr>\n",
       "<tr>\n",
       "  <th>Model:</th>                   <td>OLS</td>       <th>  Adj. R-squared:    </th>  <td>   0.260</td>  \n",
       "</tr>\n",
       "<tr>\n",
       "  <th>Method:</th>             <td>Least Squares</td>  <th>  F-statistic:       </th>  <td>   7093.</td>  \n",
       "</tr>\n",
       "<tr>\n",
       "  <th>Date:</th>             <td>Sat, 23 Apr 2022</td> <th>  Prob (F-statistic):</th>   <td>  0.00</td>   \n",
       "</tr>\n",
       "<tr>\n",
       "  <th>Time:</th>                 <td>20:07:33</td>     <th>  Log-Likelihood:    </th> <td>-4.2101e+06</td>\n",
       "</tr>\n",
       "<tr>\n",
       "  <th>No. Observations:</th>      <td>121113</td>      <th>  AIC:               </th>  <td>8.420e+06</td> \n",
       "</tr>\n",
       "<tr>\n",
       "  <th>Df Residuals:</th>          <td>121106</td>      <th>  BIC:               </th>  <td>8.420e+06</td> \n",
       "</tr>\n",
       "<tr>\n",
       "  <th>Df Model:</th>              <td>     6</td>      <th>                     </th>      <td> </td>     \n",
       "</tr>\n",
       "<tr>\n",
       "  <th>Covariance Type:</th>      <td>nonrobust</td>    <th>                     </th>      <td> </td>     \n",
       "</tr>\n",
       "</table>\n",
       "<table class=\"simpletable\">\n",
       "<tr>\n",
       "          <td></td>             <th>coef</th>     <th>std err</th>      <th>t</th>      <th>P>|t|</th>  <th>[0.025</th>    <th>0.975]</th>  \n",
       "</tr>\n",
       "<tr>\n",
       "  <th>Intercept</th>         <td>  3.56e+15</td> <td> 1.57e+13</td> <td>  226.153</td> <td> 0.000</td> <td> 3.53e+15</td> <td> 3.59e+15</td>\n",
       "</tr>\n",
       "<tr>\n",
       "  <th>C(GENDER)[T.M]</th>    <td> 1.145e+13</td> <td> 1.83e+12</td> <td>    6.266</td> <td> 0.000</td> <td> 7.87e+12</td> <td>  1.5e+13</td>\n",
       "</tr>\n",
       "<tr>\n",
       "  <th>C(RACE)[T.black]</th>  <td> -1.11e+12</td> <td> 3.43e+12</td> <td>   -0.324</td> <td> 0.746</td> <td>-7.82e+12</td> <td>  5.6e+12</td>\n",
       "</tr>\n",
       "<tr>\n",
       "  <th>C(RACE)[T.native]</th> <td> -9.94e+13</td> <td> 1.28e+13</td> <td>   -7.772</td> <td> 0.000</td> <td>-1.24e+14</td> <td>-7.43e+13</td>\n",
       "</tr>\n",
       "<tr>\n",
       "  <th>C(RACE)[T.other]</th>  <td> 3.264e+11</td> <td> 2.42e+13</td> <td>    0.013</td> <td> 0.989</td> <td>-4.71e+13</td> <td> 4.77e+13</td>\n",
       "</tr>\n",
       "<tr>\n",
       "  <th>C(RACE)[T.white]</th>  <td>-1.378e+13</td> <td> 3.31e+12</td> <td>   -4.159</td> <td> 0.000</td> <td>-2.03e+13</td> <td>-7.29e+12</td>\n",
       "</tr>\n",
       "<tr>\n",
       "  <th>age</th>               <td>-4.448e+13</td> <td> 2.17e+11</td> <td> -205.368</td> <td> 0.000</td> <td>-4.49e+13</td> <td>-4.41e+13</td>\n",
       "</tr>\n",
       "</table>\n",
       "<table class=\"simpletable\">\n",
       "<tr>\n",
       "  <th>Omnibus:</th>       <td>4928.412</td> <th>  Durbin-Watson:     </th> <td>   0.840</td>\n",
       "</tr>\n",
       "<tr>\n",
       "  <th>Prob(Omnibus):</th>  <td> 0.000</td>  <th>  Jarque-Bera (JB):  </th> <td>2158.267</td>\n",
       "</tr>\n",
       "<tr>\n",
       "  <th>Skew:</th>           <td> 0.060</td>  <th>  Prob(JB):          </th> <td>    0.00</td>\n",
       "</tr>\n",
       "<tr>\n",
       "  <th>Kurtosis:</th>       <td> 2.357</td>  <th>  Cond. No.          </th> <td>1.98e+03</td>\n",
       "</tr>\n",
       "</table><br/><br/>Notes:<br/>[1] Standard Errors assume that the covariance matrix of the errors is correctly specified.<br/>[2] The condition number is large, 1.98e+03. This might indicate that there are<br/>strong multicollinearity or other numerical problems."
      ],
      "text/plain": [
       "<class 'statsmodels.iolib.summary.Summary'>\n",
       "\"\"\"\n",
       "                            OLS Regression Results                            \n",
       "==============================================================================\n",
       "Dep. Variable:        differrenceYear   R-squared:                       0.260\n",
       "Model:                            OLS   Adj. R-squared:                  0.260\n",
       "Method:                 Least Squares   F-statistic:                     7093.\n",
       "Date:                Sat, 23 Apr 2022   Prob (F-statistic):               0.00\n",
       "Time:                        20:07:33   Log-Likelihood:            -4.2101e+06\n",
       "No. Observations:              121113   AIC:                         8.420e+06\n",
       "Df Residuals:                  121106   BIC:                         8.420e+06\n",
       "Df Model:                           6                                         \n",
       "Covariance Type:            nonrobust                                         \n",
       "=====================================================================================\n",
       "                        coef    std err          t      P>|t|      [0.025      0.975]\n",
       "-------------------------------------------------------------------------------------\n",
       "Intercept           3.56e+15   1.57e+13    226.153      0.000    3.53e+15    3.59e+15\n",
       "C(GENDER)[T.M]     1.145e+13   1.83e+12      6.266      0.000    7.87e+12     1.5e+13\n",
       "C(RACE)[T.black]   -1.11e+12   3.43e+12     -0.324      0.746   -7.82e+12     5.6e+12\n",
       "C(RACE)[T.native]  -9.94e+13   1.28e+13     -7.772      0.000   -1.24e+14   -7.43e+13\n",
       "C(RACE)[T.other]   3.264e+11   2.42e+13      0.013      0.989   -4.71e+13    4.77e+13\n",
       "C(RACE)[T.white]  -1.378e+13   3.31e+12     -4.159      0.000   -2.03e+13   -7.29e+12\n",
       "age               -4.448e+13   2.17e+11   -205.368      0.000   -4.49e+13   -4.41e+13\n",
       "==============================================================================\n",
       "Omnibus:                     4928.412   Durbin-Watson:                   0.840\n",
       "Prob(Omnibus):                  0.000   Jarque-Bera (JB):             2158.267\n",
       "Skew:                           0.060   Prob(JB):                         0.00\n",
       "Kurtosis:                       2.357   Cond. No.                     1.98e+03\n",
       "==============================================================================\n",
       "\n",
       "Notes:\n",
       "[1] Standard Errors assume that the covariance matrix of the errors is correctly specified.\n",
       "[2] The condition number is large, 1.98e+03. This might indicate that there are\n",
       "strong multicollinearity or other numerical problems.\n",
       "\"\"\""
      ]
     },
     "execution_count": 119,
     "metadata": {},
     "output_type": "execute_result"
    }
   ],
   "source": [
    "import statsmodels.formula.api as smf\n",
    "\n",
    "resA = smf.ols(formula='differrenceYear ~ age + C(GENDER) + C(RACE)', data=anemia[[ \"GENDER\", \"age\",\n",
    "                                                                                'RACE', 'differrenceYear']]).fit()\n",
    "resA.summary()"
   ]
  },
  {
   "cell_type": "code",
   "execution_count": 120,
   "id": "020fa0a2",
   "metadata": {},
   "outputs": [],
   "source": [
    "# model explains only the 26% (see the R^2) of the timedifference between the oncet  of the prediabetes and anemia occurence, \n",
    "# which is logical, we did not include the initial condition of the pts into model and other lifestyle factors\n"
   ]
  },
  {
   "cell_type": "code",
   "execution_count": 121,
   "id": "4bffc704",
   "metadata": {},
   "outputs": [
    {
     "data": {
      "text/plain": [
       "Intercept            3.559643e+15\n",
       "C(GENDER)[T.M]       1.145351e+13\n",
       "C(RACE)[T.black]    -1.109504e+12\n",
       "C(RACE)[T.native]   -9.940142e+13\n",
       "C(RACE)[T.other]     3.264115e+11\n",
       "C(RACE)[T.white]    -1.378325e+13\n",
       "age                 -4.447979e+13\n",
       "dtype: float64"
      ]
     },
     "execution_count": 121,
     "metadata": {},
     "output_type": "execute_result"
    }
   ],
   "source": [
    "resA.params\n",
    "#SO if you younger in age, or native or black or white -> you may get anemia as a complication later in a row \n",
    "# However, if you are male and race gorup other it may happened sooner "
   ]
  },
  {
   "cell_type": "markdown",
   "id": "db140553",
   "metadata": {},
   "source": [
    "### Prediabetes -> Diabetes "
   ]
  },
  {
   "cell_type": "code",
   "execution_count": 122,
   "id": "48b850c8",
   "metadata": {},
   "outputs": [],
   "source": [
    "diabetesPt = DPC.loc[DPC.Complications.isin([0,1])].PATIENT.unique().tolist() \n",
    "diabetes = DPC.loc[DPC.PATIENT.isin(diabetesPt),['START', 'STOP', 'PATIENT', 'ENCOUNTER', 'DESCRIPTION',\n",
    "       'VALUE', 'difference','RACE', 'ETHNICITY', 'GENDER','age', 'ageGroup', 'year', \"Complications\"]].sort_values(by = \"START\")"
   ]
  },
  {
   "cell_type": "code",
   "execution_count": 123,
   "id": "62ea67e3",
   "metadata": {},
   "outputs": [
    {
     "data": {
      "text/plain": [
       "(144591, 14)"
      ]
     },
     "execution_count": 123,
     "metadata": {},
     "output_type": "execute_result"
    }
   ],
   "source": [
    "diabetes.shape"
   ]
  },
  {
   "cell_type": "code",
   "execution_count": 124,
   "id": "d67f5aa9",
   "metadata": {},
   "outputs": [
    {
     "data": {
      "text/plain": [
       "11390"
      ]
     },
     "execution_count": 124,
     "metadata": {},
     "output_type": "execute_result"
    }
   ],
   "source": [
    "len(diabetes.PATIENT.unique())"
   ]
  },
  {
   "cell_type": "code",
   "execution_count": 125,
   "id": "17fc4b1b",
   "metadata": {},
   "outputs": [],
   "source": [
    "# filter the pats with prediabetes and diabets in ds \n",
    "# NOTE: not all pts develop diabetes from prediabetes or they may leave clinic -> selecting pts who had been stay \n",
    "\n",
    "\n",
    "onlyPDD = diabetes.loc[(diabetes.Complications==1) | \n",
    "                     (diabetes.Complications ==0)].groupby(['PATIENT']).filter(lambda x : len(x.Complications.unique())==2)\n"
   ]
  },
  {
   "cell_type": "code",
   "execution_count": 126,
   "id": "25afdb2b",
   "metadata": {},
   "outputs": [
    {
     "data": {
      "text/plain": [
       "931"
      ]
     },
     "execution_count": 126,
     "metadata": {},
     "output_type": "execute_result"
    }
   ],
   "source": [
    "len(onlyPDD.PATIENT.unique())"
   ]
  },
  {
   "cell_type": "code",
   "execution_count": 127,
   "id": "2d748124",
   "metadata": {},
   "outputs": [],
   "source": [
    "onlyD = onlyPDD.loc[onlyPDD.Complications ==1, ['PATIENT', 'difference', 'age', 'Complications', 'ENCOUNTER','GENDER', 'RACE']]\n",
    "onlyD['differrenceYear'] = onlyD['difference']/pd.Timedelta(365)\n",
    "onlyD['differrenceYear'] =onlyD['differrenceYear'].round(2)"
   ]
  },
  {
   "cell_type": "code",
   "execution_count": 128,
   "id": "4a9ffc21",
   "metadata": {},
   "outputs": [
    {
     "data": {
      "text/html": [
       "<table class=\"simpletable\">\n",
       "<caption>OLS Regression Results</caption>\n",
       "<tr>\n",
       "  <th>Dep. Variable:</th>     <td>differrenceYear</td> <th>  R-squared:         </th> <td>   0.063</td> \n",
       "</tr>\n",
       "<tr>\n",
       "  <th>Model:</th>                   <td>OLS</td>       <th>  Adj. R-squared:    </th> <td>   0.058</td> \n",
       "</tr>\n",
       "<tr>\n",
       "  <th>Method:</th>             <td>Least Squares</td>  <th>  F-statistic:       </th> <td>   12.39</td> \n",
       "</tr>\n",
       "<tr>\n",
       "  <th>Date:</th>             <td>Sat, 23 Apr 2022</td> <th>  Prob (F-statistic):</th> <td>1.17e-11</td> \n",
       "</tr>\n",
       "<tr>\n",
       "  <th>Time:</th>                 <td>20:07:35</td>     <th>  Log-Likelihood:    </th> <td> -31704.</td> \n",
       "</tr>\n",
       "<tr>\n",
       "  <th>No. Observations:</th>      <td>   931</td>      <th>  AIC:               </th> <td>6.342e+04</td>\n",
       "</tr>\n",
       "<tr>\n",
       "  <th>Df Residuals:</th>          <td>   925</td>      <th>  BIC:               </th> <td>6.345e+04</td>\n",
       "</tr>\n",
       "<tr>\n",
       "  <th>Df Model:</th>              <td>     5</td>      <th>                     </th>     <td> </td>    \n",
       "</tr>\n",
       "<tr>\n",
       "  <th>Covariance Type:</th>      <td>nonrobust</td>    <th>                     </th>     <td> </td>    \n",
       "</tr>\n",
       "</table>\n",
       "<table class=\"simpletable\">\n",
       "<tr>\n",
       "          <td></td>             <th>coef</th>     <th>std err</th>      <th>t</th>      <th>P>|t|</th>  <th>[0.025</th>    <th>0.975]</th>  \n",
       "</tr>\n",
       "<tr>\n",
       "  <th>Intercept</th>         <td> 1.014e+15</td> <td> 9.57e+13</td> <td>   10.593</td> <td> 0.000</td> <td> 8.26e+14</td> <td>  1.2e+15</td>\n",
       "</tr>\n",
       "<tr>\n",
       "  <th>C(GENDER)[T.M]</th>    <td> 6.747e+12</td> <td> 1.01e+13</td> <td>    0.666</td> <td> 0.505</td> <td>-1.31e+13</td> <td> 2.66e+13</td>\n",
       "</tr>\n",
       "<tr>\n",
       "  <th>C(RACE)[T.black]</th>  <td> 1.614e+13</td> <td> 1.71e+13</td> <td>    0.945</td> <td> 0.345</td> <td>-1.74e+13</td> <td> 4.96e+13</td>\n",
       "</tr>\n",
       "<tr>\n",
       "  <th>C(RACE)[T.native]</th> <td> 1.177e+14</td> <td> 5.22e+13</td> <td>    2.255</td> <td> 0.024</td> <td> 1.53e+13</td> <td>  2.2e+14</td>\n",
       "</tr>\n",
       "<tr>\n",
       "  <th>C(RACE)[T.white]</th>  <td> 2.002e+13</td> <td> 1.71e+13</td> <td>    1.171</td> <td> 0.242</td> <td>-1.35e+13</td> <td> 5.36e+13</td>\n",
       "</tr>\n",
       "<tr>\n",
       "  <th>age</th>               <td>-9.796e+12</td> <td> 1.32e+12</td> <td>   -7.417</td> <td> 0.000</td> <td>-1.24e+13</td> <td> -7.2e+12</td>\n",
       "</tr>\n",
       "</table>\n",
       "<table class=\"simpletable\">\n",
       "<tr>\n",
       "  <th>Omnibus:</th>       <td>28.463</td> <th>  Durbin-Watson:     </th> <td>   1.982</td>\n",
       "</tr>\n",
       "<tr>\n",
       "  <th>Prob(Omnibus):</th> <td> 0.000</td> <th>  Jarque-Bera (JB):  </th> <td>  24.206</td>\n",
       "</tr>\n",
       "<tr>\n",
       "  <th>Skew:</th>          <td> 0.325</td> <th>  Prob(JB):          </th> <td>5.54e-06</td>\n",
       "</tr>\n",
       "<tr>\n",
       "  <th>Kurtosis:</th>      <td> 2.550</td> <th>  Cond. No.          </th> <td>1.40e+03</td>\n",
       "</tr>\n",
       "</table><br/><br/>Notes:<br/>[1] Standard Errors assume that the covariance matrix of the errors is correctly specified.<br/>[2] The condition number is large, 1.4e+03. This might indicate that there are<br/>strong multicollinearity or other numerical problems."
      ],
      "text/plain": [
       "<class 'statsmodels.iolib.summary.Summary'>\n",
       "\"\"\"\n",
       "                            OLS Regression Results                            \n",
       "==============================================================================\n",
       "Dep. Variable:        differrenceYear   R-squared:                       0.063\n",
       "Model:                            OLS   Adj. R-squared:                  0.058\n",
       "Method:                 Least Squares   F-statistic:                     12.39\n",
       "Date:                Sat, 23 Apr 2022   Prob (F-statistic):           1.17e-11\n",
       "Time:                        20:07:35   Log-Likelihood:                -31704.\n",
       "No. Observations:                 931   AIC:                         6.342e+04\n",
       "Df Residuals:                     925   BIC:                         6.345e+04\n",
       "Df Model:                           5                                         \n",
       "Covariance Type:            nonrobust                                         \n",
       "=====================================================================================\n",
       "                        coef    std err          t      P>|t|      [0.025      0.975]\n",
       "-------------------------------------------------------------------------------------\n",
       "Intercept          1.014e+15   9.57e+13     10.593      0.000    8.26e+14     1.2e+15\n",
       "C(GENDER)[T.M]     6.747e+12   1.01e+13      0.666      0.505   -1.31e+13    2.66e+13\n",
       "C(RACE)[T.black]   1.614e+13   1.71e+13      0.945      0.345   -1.74e+13    4.96e+13\n",
       "C(RACE)[T.native]  1.177e+14   5.22e+13      2.255      0.024    1.53e+13     2.2e+14\n",
       "C(RACE)[T.white]   2.002e+13   1.71e+13      1.171      0.242   -1.35e+13    5.36e+13\n",
       "age               -9.796e+12   1.32e+12     -7.417      0.000   -1.24e+13    -7.2e+12\n",
       "==============================================================================\n",
       "Omnibus:                       28.463   Durbin-Watson:                   1.982\n",
       "Prob(Omnibus):                  0.000   Jarque-Bera (JB):               24.206\n",
       "Skew:                           0.325   Prob(JB):                     5.54e-06\n",
       "Kurtosis:                       2.550   Cond. No.                     1.40e+03\n",
       "==============================================================================\n",
       "\n",
       "Notes:\n",
       "[1] Standard Errors assume that the covariance matrix of the errors is correctly specified.\n",
       "[2] The condition number is large, 1.4e+03. This might indicate that there are\n",
       "strong multicollinearity or other numerical problems.\n",
       "\"\"\""
      ]
     },
     "execution_count": 128,
     "metadata": {},
     "output_type": "execute_result"
    }
   ],
   "source": [
    "import statsmodels.formula.api as smf\n",
    "\n",
    "res = smf.ols(formula='differrenceYear ~ age + C(GENDER) + C(RACE)', data=onlyD[[ \"GENDER\", \"age\",\n",
    "                                                                                'RACE', 'differrenceYear']]).fit()\n",
    "res.summary()"
   ]
  },
  {
   "cell_type": "code",
   "execution_count": 129,
   "id": "8420ef23",
   "metadata": {},
   "outputs": [],
   "source": [
    "# our model is explaining only 6% of the dependent variable behavior.\n",
    "# But we used a small dataset 931 rows only :( \n"
   ]
  },
  {
   "cell_type": "code",
   "execution_count": 130,
   "id": "fd8ffa89",
   "metadata": {},
   "outputs": [
    {
     "data": {
      "text/plain": [
       "Intercept            1.013812e+15\n",
       "C(GENDER)[T.M]       6.747191e+12\n",
       "C(RACE)[T.black]     1.613713e+13\n",
       "C(RACE)[T.native]    1.177254e+14\n",
       "C(RACE)[T.white]     2.002384e+13\n",
       "age                 -9.795844e+12\n",
       "dtype: float64"
      ]
     },
     "execution_count": 130,
     "metadata": {},
     "output_type": "execute_result"
    }
   ],
   "source": [
    "res.params # Female gender is time difference between developing the complications is decreasing\n",
    "# as age groun the time is decreasing as well \n"
   ]
  },
  {
   "cell_type": "markdown",
   "id": "ad05cefc",
   "metadata": {},
   "source": [
    "### Retinopathy "
   ]
  },
  {
   "cell_type": "code",
   "execution_count": 131,
   "id": "0a4e4333",
   "metadata": {},
   "outputs": [],
   "source": [
    "retinoPt = DPC.loc[DPC.Complications == 4].PATIENT.unique().tolist() \n",
    "retinopath = DPC.loc[DPC.PATIENT.isin(retinoPt),['START', 'STOP', 'PATIENT', 'ENCOUNTER', 'DESCRIPTION',\n",
    "       'VALUE', 'difference','RACE', 'ETHNICITY', 'GENDER','age', 'ageGroup', 'year', \"Complications\"]].sort_values(by = \"START\")\n",
    "\n",
    "retinopath['differrenceYear'] = retinopath['difference']/pd.Timedelta(365)\n",
    "retinopath['differrenceYear'] = retinopath['differrenceYear'].round(2)\n"
   ]
  },
  {
   "cell_type": "code",
   "execution_count": 132,
   "id": "124ae412",
   "metadata": {},
   "outputs": [
    {
     "data": {
      "text/plain": [
       "(4608, 15)"
      ]
     },
     "execution_count": 132,
     "metadata": {},
     "output_type": "execute_result"
    }
   ],
   "source": [
    "retinopath.shape \n",
    "# checking the BP, cholesterol, A1c , age, gender "
   ]
  },
  {
   "cell_type": "code",
   "execution_count": 133,
   "id": "9318c355",
   "metadata": {},
   "outputs": [
    {
     "data": {
      "text/plain": [
       "146"
      ]
     },
     "execution_count": 133,
     "metadata": {},
     "output_type": "execute_result"
    }
   ],
   "source": [
    "len(retinopath.PATIENT.unique())"
   ]
  },
  {
   "cell_type": "code",
   "execution_count": 134,
   "id": "e1625c3a",
   "metadata": {},
   "outputs": [],
   "source": [
    "newVitals = vitals[:3]+['Total Cholesterol']\n",
    "vitalsRet = retinopath.loc[retinopath.DESCRIPTION.isin(newVitals), [\"START\", \n",
    "                                                                     'PATIENT','VALUE', \"DESCRIPTION\",]]"
   ]
  },
  {
   "cell_type": "code",
   "execution_count": 135,
   "id": "8615b564",
   "metadata": {},
   "outputs": [
    {
     "data": {
      "text/plain": [
       "array(['d771ba72-4755-9004-18bd-4799107531e8'], dtype=object)"
      ]
     },
     "execution_count": 135,
     "metadata": {},
     "output_type": "execute_result"
    }
   ],
   "source": [
    "vitalsRet.PATIENT.unique()\n",
    "# ha from all group only one pts who had been measured with \n",
    "#'Diastolic Blood Pressure', \"Hemoglobin A1c/Hemoglobin.total in Blood\", \"Systolic Blood Pressure\" \n"
   ]
  },
  {
   "cell_type": "code",
   "execution_count": 136,
   "id": "096e65ea",
   "metadata": {},
   "outputs": [
    {
     "data": {
      "text/html": [
       "<table class=\"simpletable\">\n",
       "<caption>OLS Regression Results</caption>\n",
       "<tr>\n",
       "  <th>Dep. Variable:</th>     <td>differrenceYear</td> <th>  R-squared:         </th>  <td>   0.428</td>  \n",
       "</tr>\n",
       "<tr>\n",
       "  <th>Model:</th>                   <td>OLS</td>       <th>  Adj. R-squared:    </th>  <td>   0.427</td>  \n",
       "</tr>\n",
       "<tr>\n",
       "  <th>Method:</th>             <td>Least Squares</td>  <th>  F-statistic:       </th>  <td>   687.3</td>  \n",
       "</tr>\n",
       "<tr>\n",
       "  <th>Date:</th>             <td>Sat, 23 Apr 2022</td> <th>  Prob (F-statistic):</th>   <td>  0.00</td>   \n",
       "</tr>\n",
       "<tr>\n",
       "  <th>Time:</th>                 <td>20:07:35</td>     <th>  Log-Likelihood:    </th> <td>-1.5972e+05</td>\n",
       "</tr>\n",
       "<tr>\n",
       "  <th>No. Observations:</th>      <td>  4608</td>      <th>  AIC:               </th>  <td>3.195e+05</td> \n",
       "</tr>\n",
       "<tr>\n",
       "  <th>Df Residuals:</th>          <td>  4602</td>      <th>  BIC:               </th>  <td>3.195e+05</td> \n",
       "</tr>\n",
       "<tr>\n",
       "  <th>Df Model:</th>              <td>     5</td>      <th>                     </th>      <td> </td>     \n",
       "</tr>\n",
       "<tr>\n",
       "  <th>Covariance Type:</th>      <td>nonrobust</td>    <th>                     </th>      <td> </td>     \n",
       "</tr>\n",
       "</table>\n",
       "<table class=\"simpletable\">\n",
       "<tr>\n",
       "          <td></td>             <th>coef</th>     <th>std err</th>      <th>t</th>      <th>P>|t|</th>  <th>[0.025</th>    <th>0.975]</th>  \n",
       "</tr>\n",
       "<tr>\n",
       "  <th>Intercept</th>         <td> 4.881e+15</td> <td> 7.63e+13</td> <td>   63.987</td> <td> 0.000</td> <td> 4.73e+15</td> <td> 5.03e+15</td>\n",
       "</tr>\n",
       "<tr>\n",
       "  <th>C(GENDER)[T.M]</th>    <td>-7.329e+13</td> <td> 8.48e+12</td> <td>   -8.642</td> <td> 0.000</td> <td>-8.99e+13</td> <td>-5.67e+13</td>\n",
       "</tr>\n",
       "<tr>\n",
       "  <th>C(RACE)[T.black]</th>  <td> 5.887e+13</td> <td> 1.42e+13</td> <td>    4.149</td> <td> 0.000</td> <td> 3.11e+13</td> <td> 8.67e+13</td>\n",
       "</tr>\n",
       "<tr>\n",
       "  <th>C(RACE)[T.native]</th> <td>-1.993e+14</td> <td> 3.57e+13</td> <td>   -5.576</td> <td> 0.000</td> <td>-2.69e+14</td> <td>-1.29e+14</td>\n",
       "</tr>\n",
       "<tr>\n",
       "  <th>C(RACE)[T.white]</th>  <td> 9.829e+12</td> <td> 1.41e+13</td> <td>    0.699</td> <td> 0.484</td> <td>-1.77e+13</td> <td> 3.74e+13</td>\n",
       "</tr>\n",
       "<tr>\n",
       "  <th>age</th>               <td>-6.135e+13</td> <td> 1.06e+12</td> <td>  -57.687</td> <td> 0.000</td> <td>-6.34e+13</td> <td>-5.93e+13</td>\n",
       "</tr>\n",
       "</table>\n",
       "<table class=\"simpletable\">\n",
       "<tr>\n",
       "  <th>Omnibus:</th>       <td>89.246</td> <th>  Durbin-Watson:     </th> <td>   0.653</td>\n",
       "</tr>\n",
       "<tr>\n",
       "  <th>Prob(Omnibus):</th> <td> 0.000</td> <th>  Jarque-Bera (JB):  </th> <td>  86.717</td>\n",
       "</tr>\n",
       "<tr>\n",
       "  <th>Skew:</th>          <td>-0.304</td> <th>  Prob(JB):          </th> <td>1.48e-19</td>\n",
       "</tr>\n",
       "<tr>\n",
       "  <th>Kurtosis:</th>      <td> 2.715</td> <th>  Cond. No.          </th> <td>1.34e+03</td>\n",
       "</tr>\n",
       "</table><br/><br/>Notes:<br/>[1] Standard Errors assume that the covariance matrix of the errors is correctly specified.<br/>[2] The condition number is large, 1.34e+03. This might indicate that there are<br/>strong multicollinearity or other numerical problems."
      ],
      "text/plain": [
       "<class 'statsmodels.iolib.summary.Summary'>\n",
       "\"\"\"\n",
       "                            OLS Regression Results                            \n",
       "==============================================================================\n",
       "Dep. Variable:        differrenceYear   R-squared:                       0.428\n",
       "Model:                            OLS   Adj. R-squared:                  0.427\n",
       "Method:                 Least Squares   F-statistic:                     687.3\n",
       "Date:                Sat, 23 Apr 2022   Prob (F-statistic):               0.00\n",
       "Time:                        20:07:35   Log-Likelihood:            -1.5972e+05\n",
       "No. Observations:                4608   AIC:                         3.195e+05\n",
       "Df Residuals:                    4602   BIC:                         3.195e+05\n",
       "Df Model:                           5                                         \n",
       "Covariance Type:            nonrobust                                         \n",
       "=====================================================================================\n",
       "                        coef    std err          t      P>|t|      [0.025      0.975]\n",
       "-------------------------------------------------------------------------------------\n",
       "Intercept          4.881e+15   7.63e+13     63.987      0.000    4.73e+15    5.03e+15\n",
       "C(GENDER)[T.M]    -7.329e+13   8.48e+12     -8.642      0.000   -8.99e+13   -5.67e+13\n",
       "C(RACE)[T.black]   5.887e+13   1.42e+13      4.149      0.000    3.11e+13    8.67e+13\n",
       "C(RACE)[T.native] -1.993e+14   3.57e+13     -5.576      0.000   -2.69e+14   -1.29e+14\n",
       "C(RACE)[T.white]   9.829e+12   1.41e+13      0.699      0.484   -1.77e+13    3.74e+13\n",
       "age               -6.135e+13   1.06e+12    -57.687      0.000   -6.34e+13   -5.93e+13\n",
       "==============================================================================\n",
       "Omnibus:                       89.246   Durbin-Watson:                   0.653\n",
       "Prob(Omnibus):                  0.000   Jarque-Bera (JB):               86.717\n",
       "Skew:                          -0.304   Prob(JB):                     1.48e-19\n",
       "Kurtosis:                       2.715   Cond. No.                     1.34e+03\n",
       "==============================================================================\n",
       "\n",
       "Notes:\n",
       "[1] Standard Errors assume that the covariance matrix of the errors is correctly specified.\n",
       "[2] The condition number is large, 1.34e+03. This might indicate that there are\n",
       "strong multicollinearity or other numerical problems.\n",
       "\"\"\""
      ]
     },
     "execution_count": 136,
     "metadata": {},
     "output_type": "execute_result"
    }
   ],
   "source": [
    "import statsmodels.formula.api as smf\n",
    "\n",
    "resR = smf.ols(formula='differrenceYear ~ age + C(GENDER) + C(RACE)', data=retinopath[[ \"GENDER\", \"age\",\n",
    "                                                                                'RACE', 'differrenceYear']]).fit()\n",
    "resR.summary()"
   ]
  },
  {
   "cell_type": "code",
   "execution_count": 137,
   "id": "35e09dad",
   "metadata": {},
   "outputs": [
    {
     "data": {
      "text/plain": [
       "Intercept            4.881251e+15\n",
       "C(GENDER)[T.M]      -7.328619e+13\n",
       "C(RACE)[T.black]     5.887155e+13\n",
       "C(RACE)[T.native]   -1.992760e+14\n",
       "C(RACE)[T.white]     9.829363e+12\n",
       "age                 -6.134554e+13\n",
       "dtype: float64"
      ]
     },
     "execution_count": 137,
     "metadata": {},
     "output_type": "execute_result"
    }
   ],
   "source": [
    "resR.params"
   ]
  },
  {
   "cell_type": "code",
   "execution_count": 138,
   "id": "501d7bc7",
   "metadata": {},
   "outputs": [
    {
     "data": {
      "text/html": [
       "<div>\n",
       "<style scoped>\n",
       "    .dataframe tbody tr th:only-of-type {\n",
       "        vertical-align: middle;\n",
       "    }\n",
       "\n",
       "    .dataframe tbody tr th {\n",
       "        vertical-align: top;\n",
       "    }\n",
       "\n",
       "    .dataframe thead th {\n",
       "        text-align: right;\n",
       "    }\n",
       "</style>\n",
       "<table border=\"1\" class=\"dataframe\">\n",
       "  <thead>\n",
       "    <tr style=\"text-align: right;\">\n",
       "      <th></th>\n",
       "      <th>START</th>\n",
       "      <th>STOP</th>\n",
       "      <th>PATIENT</th>\n",
       "      <th>ENCOUNTER</th>\n",
       "      <th>DESCRIPTION</th>\n",
       "      <th>VALUE</th>\n",
       "      <th>difference</th>\n",
       "      <th>RACE</th>\n",
       "      <th>ETHNICITY</th>\n",
       "      <th>GENDER</th>\n",
       "      <th>age</th>\n",
       "      <th>ageGroup</th>\n",
       "      <th>year</th>\n",
       "      <th>Complications</th>\n",
       "      <th>differrenceYear</th>\n",
       "    </tr>\n",
       "  </thead>\n",
       "  <tbody>\n",
       "    <tr>\n",
       "      <th>4146</th>\n",
       "      <td>1940-10-18 00:00:00+00:00</td>\n",
       "      <td>NaT</td>\n",
       "      <td>42eab8d9-b68d-c6f7-0411-43a69727482e</td>\n",
       "      <td>064c30e1-7e2a-e449-3886-d519fd6cd52a</td>\n",
       "      <td>Anemia (disorder)</td>\n",
       "      <td>NaN</td>\n",
       "      <td>0 days 00:00:00</td>\n",
       "      <td>asian</td>\n",
       "      <td>nonhispanic</td>\n",
       "      <td>F</td>\n",
       "      <td>81</td>\n",
       "      <td>75-84</td>\n",
       "      <td>1940</td>\n",
       "      <td>2.0</td>\n",
       "      <td>0.000000e+00</td>\n",
       "    </tr>\n",
       "    <tr>\n",
       "      <th>4147</th>\n",
       "      <td>1940-10-18 00:00:00+00:00</td>\n",
       "      <td>NaT</td>\n",
       "      <td>42eab8d9-b68d-c6f7-0411-43a69727482e</td>\n",
       "      <td>064c30e1-7e2a-e449-3886-d519fd6cd52a</td>\n",
       "      <td>Prediabetes</td>\n",
       "      <td>NaN</td>\n",
       "      <td>0 days 00:00:00</td>\n",
       "      <td>asian</td>\n",
       "      <td>nonhispanic</td>\n",
       "      <td>F</td>\n",
       "      <td>81</td>\n",
       "      <td>75-84</td>\n",
       "      <td>1940</td>\n",
       "      <td>0.0</td>\n",
       "      <td>0.000000e+00</td>\n",
       "    </tr>\n",
       "    <tr>\n",
       "      <th>27805055</th>\n",
       "      <td>1940-10-18 17:56:21+00:00</td>\n",
       "      <td>1941-10-24 17:56:21+00:00</td>\n",
       "      <td>42eab8d9-b68d-c6f7-0411-43a69727482e</td>\n",
       "      <td>e069fb6e-505b-b03c-dc11-00f26e33fd5f</td>\n",
       "      <td>Hydrochlorothiazide 25 MG Oral Tablet</td>\n",
       "      <td>NaN</td>\n",
       "      <td>0 days 17:56:21</td>\n",
       "      <td>asian</td>\n",
       "      <td>nonhispanic</td>\n",
       "      <td>F</td>\n",
       "      <td>81</td>\n",
       "      <td>75-84</td>\n",
       "      <td>1940</td>\n",
       "      <td>NaN</td>\n",
       "      <td>1.769342e+11</td>\n",
       "    </tr>\n",
       "    <tr>\n",
       "      <th>27805056</th>\n",
       "      <td>1940-10-18 17:56:21+00:00</td>\n",
       "      <td>1941-10-24 17:56:21+00:00</td>\n",
       "      <td>42eab8d9-b68d-c6f7-0411-43a69727482e</td>\n",
       "      <td>e069fb6e-505b-b03c-dc11-00f26e33fd5f</td>\n",
       "      <td>amLODIPine 2.5 MG Oral Tablet</td>\n",
       "      <td>NaN</td>\n",
       "      <td>0 days 17:56:21</td>\n",
       "      <td>asian</td>\n",
       "      <td>nonhispanic</td>\n",
       "      <td>F</td>\n",
       "      <td>81</td>\n",
       "      <td>75-84</td>\n",
       "      <td>1940</td>\n",
       "      <td>NaN</td>\n",
       "      <td>1.769342e+11</td>\n",
       "    </tr>\n",
       "    <tr>\n",
       "      <th>27805054</th>\n",
       "      <td>1940-10-18 17:56:21+00:00</td>\n",
       "      <td>1940-10-18 17:56:21+00:00</td>\n",
       "      <td>42eab8d9-b68d-c6f7-0411-43a69727482e</td>\n",
       "      <td>064c30e1-7e2a-e449-3886-d519fd6cd52a</td>\n",
       "      <td>amLODIPine 2.5 MG Oral Tablet</td>\n",
       "      <td>NaN</td>\n",
       "      <td>0 days 17:56:21</td>\n",
       "      <td>asian</td>\n",
       "      <td>nonhispanic</td>\n",
       "      <td>F</td>\n",
       "      <td>81</td>\n",
       "      <td>75-84</td>\n",
       "      <td>1940</td>\n",
       "      <td>NaN</td>\n",
       "      <td>1.769342e+11</td>\n",
       "    </tr>\n",
       "  </tbody>\n",
       "</table>\n",
       "</div>"
      ],
      "text/plain": [
       "                             START                      STOP  \\\n",
       "4146     1940-10-18 00:00:00+00:00                       NaT   \n",
       "4147     1940-10-18 00:00:00+00:00                       NaT   \n",
       "27805055 1940-10-18 17:56:21+00:00 1941-10-24 17:56:21+00:00   \n",
       "27805056 1940-10-18 17:56:21+00:00 1941-10-24 17:56:21+00:00   \n",
       "27805054 1940-10-18 17:56:21+00:00 1940-10-18 17:56:21+00:00   \n",
       "\n",
       "                                       PATIENT  \\\n",
       "4146      42eab8d9-b68d-c6f7-0411-43a69727482e   \n",
       "4147      42eab8d9-b68d-c6f7-0411-43a69727482e   \n",
       "27805055  42eab8d9-b68d-c6f7-0411-43a69727482e   \n",
       "27805056  42eab8d9-b68d-c6f7-0411-43a69727482e   \n",
       "27805054  42eab8d9-b68d-c6f7-0411-43a69727482e   \n",
       "\n",
       "                                     ENCOUNTER  \\\n",
       "4146      064c30e1-7e2a-e449-3886-d519fd6cd52a   \n",
       "4147      064c30e1-7e2a-e449-3886-d519fd6cd52a   \n",
       "27805055  e069fb6e-505b-b03c-dc11-00f26e33fd5f   \n",
       "27805056  e069fb6e-505b-b03c-dc11-00f26e33fd5f   \n",
       "27805054  064c30e1-7e2a-e449-3886-d519fd6cd52a   \n",
       "\n",
       "                                    DESCRIPTION VALUE      difference   RACE  \\\n",
       "4146                          Anemia (disorder)   NaN 0 days 00:00:00  asian   \n",
       "4147                                Prediabetes   NaN 0 days 00:00:00  asian   \n",
       "27805055  Hydrochlorothiazide 25 MG Oral Tablet   NaN 0 days 17:56:21  asian   \n",
       "27805056          amLODIPine 2.5 MG Oral Tablet   NaN 0 days 17:56:21  asian   \n",
       "27805054          amLODIPine 2.5 MG Oral Tablet   NaN 0 days 17:56:21  asian   \n",
       "\n",
       "            ETHNICITY GENDER  age ageGroup  year  Complications  \\\n",
       "4146      nonhispanic      F   81    75-84  1940            2.0   \n",
       "4147      nonhispanic      F   81    75-84  1940            0.0   \n",
       "27805055  nonhispanic      F   81    75-84  1940            NaN   \n",
       "27805056  nonhispanic      F   81    75-84  1940            NaN   \n",
       "27805054  nonhispanic      F   81    75-84  1940            NaN   \n",
       "\n",
       "          differrenceYear  \n",
       "4146         0.000000e+00  \n",
       "4147         0.000000e+00  \n",
       "27805055     1.769342e+11  \n",
       "27805056     1.769342e+11  \n",
       "27805054     1.769342e+11  "
      ]
     },
     "execution_count": 138,
     "metadata": {},
     "output_type": "execute_result"
    }
   ],
   "source": [
    "retinopath.head()"
   ]
  },
  {
   "cell_type": "code",
   "execution_count": 139,
   "id": "b0f238b8",
   "metadata": {},
   "outputs": [
    {
     "data": {
      "image/png": "[encoded data removed]",
      "text/plain": [
       "<Figure size 864x360 with 1 Axes>"
      ]
     },
     "metadata": {
      "needs_background": "light"
     },
     "output_type": "display_data"
    }
   ],
   "source": [
    "plt.figure(figsize = (12,5))\n",
    "sns.scatterplot(data=retinopath[['differrenceYear', 'age', 'GENDER', 'RACE']], y='differrenceYear',\n",
    "                x ='age', hue = 'GENDER',  style='RACE')\n",
    "plt.show()"
   ]
  },
  {
   "cell_type": "markdown",
   "id": "8cd88bfc",
   "metadata": {},
   "source": [
    "### Kidney issue "
   ]
  },
  {
   "cell_type": "code",
   "execution_count": 140,
   "id": "bdd19819",
   "metadata": {},
   "outputs": [],
   "source": [
    "kidneyPt = DPC.loc[DPC.Complications == 3].PATIENT.unique().tolist() \n",
    "kidney = DPC.loc[DPC.PATIENT.isin(kidneyPt),['START', 'STOP', 'PATIENT', 'ENCOUNTER', 'DESCRIPTION',\n",
    "       'VALUE', 'difference','RACE', 'ETHNICITY', 'GENDER','age', 'ageGroup', 'year', \"Complications\"]].sort_values(by = \"START\")\n"
   ]
  },
  {
   "cell_type": "code",
   "execution_count": 141,
   "id": "eaa28d56",
   "metadata": {},
   "outputs": [],
   "source": [
    "\n",
    "kidney['differrenceYear'] = kidney['difference']/pd.Timedelta(365)\n",
    "kidney['differrenceYear'] = kidney['differrenceYear'].round(2)"
   ]
  },
  {
   "cell_type": "code",
   "execution_count": 142,
   "id": "d23ae344",
   "metadata": {},
   "outputs": [
    {
     "data": {
      "text/plain": [
       "(15272, 15)"
      ]
     },
     "execution_count": 142,
     "metadata": {},
     "output_type": "execute_result"
    }
   ],
   "source": [
    "kidney.shape"
   ]
  },
  {
   "cell_type": "code",
   "execution_count": 143,
   "id": "9423f83e",
   "metadata": {},
   "outputs": [
    {
     "data": {
      "text/plain": [
       "281"
      ]
     },
     "execution_count": 143,
     "metadata": {},
     "output_type": "execute_result"
    }
   ],
   "source": [
    "len(kidney.PATIENT.unique())"
   ]
  },
  {
   "cell_type": "code",
   "execution_count": 144,
   "id": "c9d2cf5d",
   "metadata": {},
   "outputs": [],
   "source": [
    "kidn = kidney.loc[((kidney.Complications == 3) & \n",
    "                (kidney.difference >'0 days'))]"
   ]
  },
  {
   "cell_type": "code",
   "execution_count": 145,
   "id": "1e85fd96",
   "metadata": {},
   "outputs": [
    {
     "data": {
      "text/html": [
       "<table class=\"simpletable\">\n",
       "<caption>OLS Regression Results</caption>\n",
       "<tr>\n",
       "  <th>Dep. Variable:</th>     <td>differrenceYear</td> <th>  R-squared:         </th>  <td>   0.356</td>  \n",
       "</tr>\n",
       "<tr>\n",
       "  <th>Model:</th>                   <td>OLS</td>       <th>  Adj. R-squared:    </th>  <td>   0.355</td>  \n",
       "</tr>\n",
       "<tr>\n",
       "  <th>Method:</th>             <td>Least Squares</td>  <th>  F-statistic:       </th>  <td>   1685.</td>  \n",
       "</tr>\n",
       "<tr>\n",
       "  <th>Date:</th>             <td>Sat, 23 Apr 2022</td> <th>  Prob (F-statistic):</th>   <td>  0.00</td>   \n",
       "</tr>\n",
       "<tr>\n",
       "  <th>Time:</th>                 <td>20:07:36</td>     <th>  Log-Likelihood:    </th> <td>-5.2979e+05</td>\n",
       "</tr>\n",
       "<tr>\n",
       "  <th>No. Observations:</th>      <td> 15272</td>      <th>  AIC:               </th>  <td>1.060e+06</td> \n",
       "</tr>\n",
       "<tr>\n",
       "  <th>Df Residuals:</th>          <td> 15266</td>      <th>  BIC:               </th>  <td>1.060e+06</td> \n",
       "</tr>\n",
       "<tr>\n",
       "  <th>Df Model:</th>              <td>     5</td>      <th>                     </th>      <td> </td>     \n",
       "</tr>\n",
       "<tr>\n",
       "  <th>Covariance Type:</th>      <td>nonrobust</td>    <th>                     </th>      <td> </td>     \n",
       "</tr>\n",
       "</table>\n",
       "<table class=\"simpletable\">\n",
       "<tr>\n",
       "          <td></td>             <th>coef</th>     <th>std err</th>      <th>t</th>      <th>P>|t|</th>  <th>[0.025</th>    <th>0.975]</th>  \n",
       "</tr>\n",
       "<tr>\n",
       "  <th>Intercept</th>         <td> 4.866e+15</td> <td> 4.84e+13</td> <td>  100.616</td> <td> 0.000</td> <td> 4.77e+15</td> <td> 4.96e+15</td>\n",
       "</tr>\n",
       "<tr>\n",
       "  <th>C(GENDER)[T.M]</th>    <td> 8.469e+13</td> <td> 6.21e+12</td> <td>   13.635</td> <td> 0.000</td> <td> 7.25e+13</td> <td> 9.69e+13</td>\n",
       "</tr>\n",
       "<tr>\n",
       "  <th>C(RACE)[T.black]</th>  <td>-4.914e+13</td> <td> 9.45e+12</td> <td>   -5.199</td> <td> 0.000</td> <td>-6.77e+13</td> <td>-3.06e+13</td>\n",
       "</tr>\n",
       "<tr>\n",
       "  <th>C(RACE)[T.native]</th> <td> 1.121e+14</td> <td> 3.03e+13</td> <td>    3.694</td> <td> 0.000</td> <td> 5.26e+13</td> <td> 1.72e+14</td>\n",
       "</tr>\n",
       "<tr>\n",
       "  <th>C(RACE)[T.white]</th>  <td>-9.257e+13</td> <td> 9.17e+12</td> <td>  -10.096</td> <td> 0.000</td> <td>-1.11e+14</td> <td>-7.46e+13</td>\n",
       "</tr>\n",
       "<tr>\n",
       "  <th>age</th>               <td>-6.142e+13</td> <td> 6.81e+11</td> <td>  -90.221</td> <td> 0.000</td> <td>-6.28e+13</td> <td>-6.01e+13</td>\n",
       "</tr>\n",
       "</table>\n",
       "<table class=\"simpletable\">\n",
       "<tr>\n",
       "  <th>Omnibus:</th>       <td>427.719</td> <th>  Durbin-Watson:     </th> <td>   0.568</td>\n",
       "</tr>\n",
       "<tr>\n",
       "  <th>Prob(Omnibus):</th> <td> 0.000</td>  <th>  Jarque-Bera (JB):  </th> <td> 339.770</td>\n",
       "</tr>\n",
       "<tr>\n",
       "  <th>Skew:</th>          <td>-0.285</td>  <th>  Prob(JB):          </th> <td>1.66e-74</td>\n",
       "</tr>\n",
       "<tr>\n",
       "  <th>Kurtosis:</th>      <td> 2.543</td>  <th>  Cond. No.          </th> <td>1.49e+03</td>\n",
       "</tr>\n",
       "</table><br/><br/>Notes:<br/>[1] Standard Errors assume that the covariance matrix of the errors is correctly specified.<br/>[2] The condition number is large, 1.49e+03. This might indicate that there are<br/>strong multicollinearity or other numerical problems."
      ],
      "text/plain": [
       "<class 'statsmodels.iolib.summary.Summary'>\n",
       "\"\"\"\n",
       "                            OLS Regression Results                            \n",
       "==============================================================================\n",
       "Dep. Variable:        differrenceYear   R-squared:                       0.356\n",
       "Model:                            OLS   Adj. R-squared:                  0.355\n",
       "Method:                 Least Squares   F-statistic:                     1685.\n",
       "Date:                Sat, 23 Apr 2022   Prob (F-statistic):               0.00\n",
       "Time:                        20:07:36   Log-Likelihood:            -5.2979e+05\n",
       "No. Observations:               15272   AIC:                         1.060e+06\n",
       "Df Residuals:                   15266   BIC:                         1.060e+06\n",
       "Df Model:                           5                                         \n",
       "Covariance Type:            nonrobust                                         \n",
       "=====================================================================================\n",
       "                        coef    std err          t      P>|t|      [0.025      0.975]\n",
       "-------------------------------------------------------------------------------------\n",
       "Intercept          4.866e+15   4.84e+13    100.616      0.000    4.77e+15    4.96e+15\n",
       "C(GENDER)[T.M]     8.469e+13   6.21e+12     13.635      0.000    7.25e+13    9.69e+13\n",
       "C(RACE)[T.black]  -4.914e+13   9.45e+12     -5.199      0.000   -6.77e+13   -3.06e+13\n",
       "C(RACE)[T.native]  1.121e+14   3.03e+13      3.694      0.000    5.26e+13    1.72e+14\n",
       "C(RACE)[T.white]  -9.257e+13   9.17e+12    -10.096      0.000   -1.11e+14   -7.46e+13\n",
       "age               -6.142e+13   6.81e+11    -90.221      0.000   -6.28e+13   -6.01e+13\n",
       "==============================================================================\n",
       "Omnibus:                      427.719   Durbin-Watson:                   0.568\n",
       "Prob(Omnibus):                  0.000   Jarque-Bera (JB):              339.770\n",
       "Skew:                          -0.285   Prob(JB):                     1.66e-74\n",
       "Kurtosis:                       2.543   Cond. No.                     1.49e+03\n",
       "==============================================================================\n",
       "\n",
       "Notes:\n",
       "[1] Standard Errors assume that the covariance matrix of the errors is correctly specified.\n",
       "[2] The condition number is large, 1.49e+03. This might indicate that there are\n",
       "strong multicollinearity or other numerical problems.\n",
       "\"\"\""
      ]
     },
     "execution_count": 145,
     "metadata": {},
     "output_type": "execute_result"
    }
   ],
   "source": [
    "import statsmodels.formula.api as smf\n",
    "\n",
    "resK = smf.ols(formula='differrenceYear ~ age + C(GENDER) + C(RACE)', data=kidney[[ \"GENDER\", \"age\",\n",
    "                                                                                'RACE', 'differrenceYear']]).fit()\n",
    "resK.summary()"
   ]
  },
  {
   "cell_type": "code",
   "execution_count": 146,
   "id": "a3d4fdb6",
   "metadata": {},
   "outputs": [
    {
     "data": {
      "text/plain": [
       "Intercept            4.865523e+15\n",
       "C(GENDER)[T.M]       8.468931e+13\n",
       "C(RACE)[T.black]    -4.914276e+13\n",
       "C(RACE)[T.native]    1.120709e+14\n",
       "C(RACE)[T.white]    -9.256506e+13\n",
       "age                 -6.142005e+13\n",
       "dtype: float64"
      ]
     },
     "execution_count": 146,
     "metadata": {},
     "output_type": "execute_result"
    }
   ],
   "source": [
    "resK.params"
   ]
  },
  {
   "cell_type": "code",
   "execution_count": 147,
   "id": "4bed053f",
   "metadata": {},
   "outputs": [
    {
     "data": {
      "text/plain": [
       "(344, 4)"
      ]
     },
     "execution_count": 147,
     "metadata": {},
     "output_type": "execute_result"
    }
   ],
   "source": [
    "vitalsKidn = kidney.loc[kidney.DESCRIPTION.isin(newVitals), [\"START\", 'PATIENT','VALUE', \"DESCRIPTION\",]]\n",
    "vitalsKidn.shape"
   ]
  },
  {
   "cell_type": "code",
   "execution_count": 148,
   "id": "f2ccbe4b",
   "metadata": {},
   "outputs": [
    {
     "data": {
      "text/html": [
       "<div>\n",
       "<style scoped>\n",
       "    .dataframe tbody tr th:only-of-type {\n",
       "        vertical-align: middle;\n",
       "    }\n",
       "\n",
       "    .dataframe tbody tr th {\n",
       "        vertical-align: top;\n",
       "    }\n",
       "\n",
       "    .dataframe thead th {\n",
       "        text-align: right;\n",
       "    }\n",
       "</style>\n",
       "<table border=\"1\" class=\"dataframe\">\n",
       "  <thead>\n",
       "    <tr style=\"text-align: right;\">\n",
       "      <th></th>\n",
       "      <th>START</th>\n",
       "      <th>PATIENT</th>\n",
       "      <th>VALUE</th>\n",
       "      <th>DESCRIPTION</th>\n",
       "    </tr>\n",
       "  </thead>\n",
       "  <tbody>\n",
       "    <tr>\n",
       "      <th>498886</th>\n",
       "      <td>1953-07-22 10:33:10+00:00</td>\n",
       "      <td>60fe72da-8d07-00b3-4fc4-2193ec361ef9</td>\n",
       "      <td>6.6</td>\n",
       "      <td>Hemoglobin A1c/Hemoglobin.total in Blood</td>\n",
       "    </tr>\n",
       "    <tr>\n",
       "      <th>498868</th>\n",
       "      <td>1953-07-22 10:33:10+00:00</td>\n",
       "      <td>60fe72da-8d07-00b3-4fc4-2193ec361ef9</td>\n",
       "      <td>132.0</td>\n",
       "      <td>Systolic Blood Pressure</td>\n",
       "    </tr>\n",
       "    <tr>\n",
       "      <th>498879</th>\n",
       "      <td>1953-07-22 10:33:10+00:00</td>\n",
       "      <td>60fe72da-8d07-00b3-4fc4-2193ec361ef9</td>\n",
       "      <td>203.8</td>\n",
       "      <td>Total Cholesterol</td>\n",
       "    </tr>\n",
       "  </tbody>\n",
       "</table>\n",
       "</div>"
      ],
      "text/plain": [
       "                           START                               PATIENT  VALUE  \\\n",
       "498886 1953-07-22 10:33:10+00:00  60fe72da-8d07-00b3-4fc4-2193ec361ef9    6.6   \n",
       "498868 1953-07-22 10:33:10+00:00  60fe72da-8d07-00b3-4fc4-2193ec361ef9  132.0   \n",
       "498879 1953-07-22 10:33:10+00:00  60fe72da-8d07-00b3-4fc4-2193ec361ef9  203.8   \n",
       "\n",
       "                                     DESCRIPTION  \n",
       "498886  Hemoglobin A1c/Hemoglobin.total in Blood  \n",
       "498868                   Systolic Blood Pressure  \n",
       "498879                         Total Cholesterol  "
      ]
     },
     "execution_count": 148,
     "metadata": {},
     "output_type": "execute_result"
    }
   ],
   "source": [
    "vitalsKidn.head(3)"
   ]
  },
  {
   "cell_type": "code",
   "execution_count": 149,
   "id": "da75fcc6",
   "metadata": {},
   "outputs": [
    {
     "data": {
      "text/html": [
       "<div>\n",
       "<style scoped>\n",
       "    .dataframe tbody tr th:only-of-type {\n",
       "        vertical-align: middle;\n",
       "    }\n",
       "\n",
       "    .dataframe tbody tr th {\n",
       "        vertical-align: top;\n",
       "    }\n",
       "\n",
       "    .dataframe thead th {\n",
       "        text-align: right;\n",
       "    }\n",
       "</style>\n",
       "<table border=\"1\" class=\"dataframe\">\n",
       "  <thead>\n",
       "    <tr style=\"text-align: right;\">\n",
       "      <th>DESCRIPTION</th>\n",
       "      <th>PATIENT</th>\n",
       "      <th>START</th>\n",
       "      <th>Diastolic Blood Pressure</th>\n",
       "      <th>Hemoglobin A1c/Hemoglobin.total in Blood</th>\n",
       "      <th>Systolic Blood Pressure</th>\n",
       "      <th>Total Cholesterol</th>\n",
       "    </tr>\n",
       "  </thead>\n",
       "  <tbody>\n",
       "    <tr>\n",
       "      <th>0</th>\n",
       "      <td>4ef5b233-0815-d50d-8f2b-61e8d2038b9e</td>\n",
       "      <td>1968-09-25 10:46:45+00:00</td>\n",
       "      <td>115.0</td>\n",
       "      <td>7.6</td>\n",
       "      <td>146.0</td>\n",
       "      <td>202.9</td>\n",
       "    </tr>\n",
       "    <tr>\n",
       "      <th>1</th>\n",
       "      <td>4ef5b233-0815-d50d-8f2b-61e8d2038b9e</td>\n",
       "      <td>1969-10-01 10:46:45+00:00</td>\n",
       "      <td>98.0</td>\n",
       "      <td>6.1</td>\n",
       "      <td>161.0</td>\n",
       "      <td>245.1</td>\n",
       "    </tr>\n",
       "    <tr>\n",
       "      <th>2</th>\n",
       "      <td>4ef5b233-0815-d50d-8f2b-61e8d2038b9e</td>\n",
       "      <td>1970-10-07 10:46:45+00:00</td>\n",
       "      <td>117.0</td>\n",
       "      <td>6.1</td>\n",
       "      <td>144.0</td>\n",
       "      <td>170.5</td>\n",
       "    </tr>\n",
       "    <tr>\n",
       "      <th>3</th>\n",
       "      <td>4ef5b233-0815-d50d-8f2b-61e8d2038b9e</td>\n",
       "      <td>1971-10-13 10:46:45+00:00</td>\n",
       "      <td>97.0</td>\n",
       "      <td>6.1</td>\n",
       "      <td>171.0</td>\n",
       "      <td>181.1</td>\n",
       "    </tr>\n",
       "    <tr>\n",
       "      <th>4</th>\n",
       "      <td>4ef5b233-0815-d50d-8f2b-61e8d2038b9e</td>\n",
       "      <td>1972-04-05 10:46:45+00:00</td>\n",
       "      <td>101.0</td>\n",
       "      <td>6.1</td>\n",
       "      <td>142.0</td>\n",
       "      <td>181.1</td>\n",
       "    </tr>\n",
       "  </tbody>\n",
       "</table>\n",
       "</div>"
      ],
      "text/plain": [
       "DESCRIPTION                               PATIENT                     START  \\\n",
       "0            4ef5b233-0815-d50d-8f2b-61e8d2038b9e 1968-09-25 10:46:45+00:00   \n",
       "1            4ef5b233-0815-d50d-8f2b-61e8d2038b9e 1969-10-01 10:46:45+00:00   \n",
       "2            4ef5b233-0815-d50d-8f2b-61e8d2038b9e 1970-10-07 10:46:45+00:00   \n",
       "3            4ef5b233-0815-d50d-8f2b-61e8d2038b9e 1971-10-13 10:46:45+00:00   \n",
       "4            4ef5b233-0815-d50d-8f2b-61e8d2038b9e 1972-04-05 10:46:45+00:00   \n",
       "\n",
       "DESCRIPTION Diastolic Blood Pressure Hemoglobin A1c/Hemoglobin.total in Blood  \\\n",
       "0                              115.0                                      7.6   \n",
       "1                               98.0                                      6.1   \n",
       "2                              117.0                                      6.1   \n",
       "3                               97.0                                      6.1   \n",
       "4                              101.0                                      6.1   \n",
       "\n",
       "DESCRIPTION Systolic Blood Pressure Total Cholesterol  \n",
       "0                             146.0             202.9  \n",
       "1                             161.0             245.1  \n",
       "2                             144.0             170.5  \n",
       "3                             171.0             181.1  \n",
       "4                             142.0             181.1  "
      ]
     },
     "execution_count": 149,
     "metadata": {},
     "output_type": "execute_result"
    }
   ],
   "source": [
    "vitalKid = pd.pivot(vitalsKidn, values = 'VALUE', index = ['PATIENT', 'START'],  columns = [\"DESCRIPTION\"])\n",
    "vitalKid = vitalKid.reset_index()\n",
    "vitalKid.head()"
   ]
  },
  {
   "cell_type": "code",
   "execution_count": 150,
   "id": "4837cfcc",
   "metadata": {},
   "outputs": [
    {
     "data": {
      "text/plain": [
       "10"
      ]
     },
     "execution_count": 150,
     "metadata": {},
     "output_type": "execute_result"
    }
   ],
   "source": [
    "len(vitalKid.PATIENT.unique())"
   ]
  },
  {
   "cell_type": "code",
   "execution_count": 151,
   "id": "deb82326",
   "metadata": {},
   "outputs": [
    {
     "data": {
      "text/plain": [
       "array(['Implantable defibrillator  device (physical object)',\n",
       "       'Implantable cardiac pacemaker (physical object)',\n",
       "       'Coronary artery stent (physical object)',\n",
       "       'Mechanical ventilator (physical object)',\n",
       "       'Videolaryngoscope (physical object)',\n",
       "       'Hemodialysis machine  device (physical object)'], dtype=object)"
      ]
     },
     "execution_count": 151,
     "metadata": {},
     "output_type": "execute_result"
    }
   ],
   "source": [
    "#Hemodialysis machine device (physical object)\n",
    "dev.loc[dev.PATIENT.isin(kidneyPt)].DESCRIPTION.unique()"
   ]
  },
  {
   "cell_type": "code",
   "execution_count": 152,
   "id": "f0a0780d",
   "metadata": {},
   "outputs": [],
   "source": [
    "############################## VIZUALIZATION ##################\n",
    "from bokeh.layouts import gridplot\n",
    "from bokeh.plotting import figure, show, output_file\n",
    "from bokeh.models import Panel, Tabs\n",
    "from bokeh.models import Span\n",
    "from math import pi\n",
    "from bokeh.palettes import Category20c, Pastel1\n",
    "from bokeh.transform import cumsum\n",
    "\n",
    "output_file('dashDMFinalAssigment.html')\n",
    "\n",
    "\n",
    "################# visualization of the time of developing complications from preDM \n",
    "listTime = [1413, 453,2116, 2116 ]\n",
    "yearList= [int(x/365) for x in listTime]\n",
    "\n",
    "\n",
    "factors = ['Diabetes', 'Anemia', 'Kidney Issues', \"Retinopathy\" ]\n",
    "x =  yearList\n",
    "\n",
    "p = figure(title=\"Average time of developing complication from prediabetes diagnosis\", tools=\"\", toolbar_location=None,\n",
    "           y_range=factors, x_range=[0,10],  x_axis_label=\"years\")\n",
    "\n",
    "p.segment(0, factors, x, factors, line_width=2, line_color=\"purple\", )\n",
    "p.circle(x, factors, size=15, fill_color=\"pink\", line_color=\"purple\", line_width=3, )\n",
    "\n",
    "###### visualization complication vs Race \n",
    "\n",
    "complications = ['Prediabetis', 'Diabetis', 'Anemia', 'Kidney issue', 'Retinopathy']\n",
    "race = [\"race: asian\", 'race: black',  'race: white']\n",
    "colors = ['#b3e2cd',\n",
    "'#fdcdac',\n",
    "'#cbd5e8']\n",
    "\n",
    "data = {'complications' : complications,\n",
    "        'race: asian'   : raceP.iloc[0].values.tolist(),\n",
    "        'race: black'   : raceP.iloc[1].values.tolist(),\n",
    "        'race: white' : raceP.iloc[4].values.tolist(),\n",
    "       }\n",
    "\n",
    "com = figure(x_range=complications, title=\"Count of pts with different complications per race group\",\n",
    "           toolbar_location=None, tools=\"hover\", tooltips=\"$name @complications: @$name\", \n",
    "              y_axis_label = \"Patient count\", )\n",
    "\n",
    "com.vbar_stack(race, x='complications', width=0.9, color=colors, source=data,line_color = \"black\", line_width =0.5, \n",
    "             legend_label=race)\n",
    "\n",
    "com.y_range.start = 0\n",
    "com.x_range.range_padding = 0.1\n",
    "com.xgrid.grid_line_color = None\n",
    "com.axis.minor_tick_line_color = None\n",
    "com.outline_line_color = None\n",
    "com.legend.location = \"top_right\"\n",
    "com.legend.orientation = \"vertical\"\n",
    "\n",
    "\n",
    "####### gender\n",
    "gender = [\"female\", 'male']\n",
    "colors = ['#b3e2cd',\n",
    "'#fdcdac',\n",
    "]\n",
    "\n",
    "data = {'complications' : complications,\n",
    "        'female'   : genderP.iloc[0].values.tolist(),\n",
    "        'male'   : genderP.iloc[1].values.tolist(),}\n",
    "\n",
    "gen = figure(x_range=complications, title=\"Count of pts with different complications per gender\",\n",
    "           toolbar_location=None, tools=\"hover\", tooltips=\"$name @complications: @$name\",\n",
    "              y_axis_label = \"Patient count\", )\n",
    "\n",
    "gen.vbar_stack(gender, x='complications', width=0.9, color=colors, source=data, line_color = \"black\", line_width =0.5, \n",
    "             legend_label=gender)\n",
    "\n",
    "gen.y_range.start = 0\n",
    "gen.x_range.range_padding = 0.1\n",
    "gen.xgrid.grid_line_color = None\n",
    "gen.axis.minor_tick_line_color = None\n",
    "gen.outline_line_color = None\n",
    "gen.legend.location = \"top_right\"\n",
    "gen.legend.orientation = \"vertical\"\n",
    "\n",
    "############ vizualization of the agegroup vs complications\n",
    "\n",
    "age = [\"65-74\", '75-84']\n",
    "colors = ['#b3e2cd',\n",
    "'#fdcdac',\n",
    "]\n",
    "\n",
    "data = {'complications' : complications,\n",
    "        '65-74'   : ageP.iloc[0].values.tolist(),\n",
    "        '75-84'   : ageP.iloc[1].values.tolist(),}\n",
    "\n",
    "ageGr = figure(x_range=complications, title=\"Count of pts with different complications per ageGroup\",\n",
    "           toolbar_location=None, tools=\"hover\", tooltips=\"$name @complications: @$name\", \n",
    "              y_axis_label = \"Patient count\", )\n",
    "\n",
    "ageGr.vbar_stack(age, x='complications', width=0.9, color=colors, source=data,line_color = \"black\", line_width =0.5, \n",
    "             legend_label=age)\n",
    "\n",
    "ageGr.y_range.start = 0\n",
    "ageGr.x_range.range_padding = 0.1\n",
    "ageGr.xgrid.grid_line_color = None\n",
    "ageGr.axis.minor_tick_line_color = None\n",
    "ageGr.outline_line_color = None\n",
    "ageGr.legend.location = \"top_right\"\n",
    "ageGr.legend.orientation = \"vertical\"\n",
    "\n",
    "################################# Interesting facts during the analysis\n",
    "####### ANEMIA Vizualization \n",
    "\n",
    "value = [8469, 1677, 279, 202]\n",
    "barName =['Anemia', 'NoTreatment', 'Metformin + NoTretament', '# pts with Hgb measures']\n",
    "\n",
    "\n",
    "x = {\"NoTreatment\" : 8469-1677 - 279,\n",
    "    'Treatment': 1677,\n",
    "    'Metformin + NoTretament' : 279, \n",
    "}\n",
    "\n",
    "data = pd.Series(x).reset_index(name='value').rename(columns={'index': 'parameter'})\n",
    "data['angle'] = data['value']/data['value'].sum() * 2*pi\n",
    "data['color'] = Pastel1[len(x)]\n",
    "\n",
    "a = figure( title=\"Count of pts with anemia complication + with/without anemia treatment\", toolbar_location=None,\n",
    "           tools=\"hover\", tooltips=\"@parameter: @value\", x_range=(-0.5, 1.0))\n",
    "\n",
    "a.wedge(x=0, y=1, radius=0.4,\n",
    "        start_angle=cumsum('angle', include_zero=True), end_angle=cumsum('angle'),\n",
    "        line_color=\"black\", fill_color='color', legend_field='parameter', source=data)\n",
    "\n",
    "a.axis.axis_label = None\n",
    "a.axis.visible = False\n",
    "a.grid.grid_line_color = None\n",
    "\n",
    "####### hgb measurments \n",
    "hg = {\"Number of anemic pts without Hgb measurements\" : 8469,\n",
    "    \n",
    "    'Hgb in normal range' : 205-142,\n",
    "    'Hgb bellow the normal range' : 142\n",
    "}\n",
    "\n",
    "dataH = pd.Series(hg).reset_index(name='value').rename(columns={'index': 'parameter'})\n",
    "dataH['angle'] = dataH['value']/dataH['value'].sum() * 2*pi\n",
    "dataH['color'] = Pastel1[len(hg)]\n",
    "\n",
    "hgb = figure( title=\"Count of pts with anemia + with/without Hgb measures\", toolbar_location=None,\n",
    "           tools=\"hover\", tooltips=\"@parameter: @value\", x_range=(-0.5, 1.0))\n",
    "\n",
    "hgb.wedge(x=0, y=1, radius=0.4,\n",
    "        start_angle=cumsum('angle', include_zero=True), end_angle=cumsum('angle'),\n",
    "        line_color=\"black\", fill_color='color', legend_field='parameter', source=dataH)\n",
    "\n",
    "hgb.axis.axis_label = None\n",
    "hgb.axis.visible = False\n",
    "hgb.grid.grid_line_color = None\n",
    "\n",
    "\n",
    "########## HTR comorbility \n",
    "\n",
    "xTR = {\"Diabetic pts\" : 11390-973,\n",
    "    'Diabetic pts with Hypertriglyceridemia': 973,\n",
    "   \n",
    "}\n",
    "\n",
    "dataTR = pd.Series(xTR).reset_index(name='value').rename(columns={'index': 'parameter'})\n",
    "dataTR['angle'] = dataTR['value']/dataTR['value'].sum() * 2*pi\n",
    "dataTR['color'] = ['#fbb4ae', '#b3cde3']\n",
    "\n",
    "tr = figure( title=\"Count of prediabetic/diabetic pts + with/without Hypertriglyceridemia\", toolbar_location=None,\n",
    "           tools=\"hover\", tooltips=\"@parameter: @value\", x_range=(-0.5, 1.0))\n",
    "\n",
    "tr.wedge(x=0, y=1, radius=0.4,\n",
    "        start_angle=cumsum('angle', include_zero=True), end_angle=cumsum('angle'),\n",
    "        line_color=\"black\", fill_color='color', legend_field='parameter', source=dataTR)\n",
    "\n",
    "tr.axis.axis_label = None\n",
    "tr.axis.visible = False\n",
    "tr.grid.grid_line_color = None\n",
    "\n",
    "########## TR measurements\n",
    "\n",
    "xTRM = {\"Diabetic pts without TR measurements\" : 11390-243,\n",
    "    \"Diabetic pts with TR measurements\": 243\n",
    "}\n",
    "\n",
    "dataTRM = pd.Series(xTRM).reset_index(name='value').rename(columns={'index': 'parameter'})\n",
    "dataTRM['angle'] = dataTRM['value']/dataTRM['value'].sum() * 2*pi\n",
    "dataTRM['color'] = ['#fbb4ae', '#b3cde3']\n",
    "\n",
    "trm = figure( title=\"Count of prediabetic/diabetic pts + with/without Triglycerides measurement\", toolbar_location=None,\n",
    "           tools=\"hover\", tooltips=\"@parameter: @value\", x_range=(-0.5, 1.0))\n",
    "\n",
    "trm.wedge(x=0, y=1, radius=0.4,\n",
    "        start_angle=cumsum('angle', include_zero=True), end_angle=cumsum('angle'),\n",
    "        line_color=\"black\", fill_color='color', legend_field='parameter', source=dataTRM)\n",
    "\n",
    "trm.axis.axis_label = None\n",
    "trm.axis.visible = False\n",
    "trm.grid.grid_line_color = None\n",
    "\n",
    "########## cholesterol average value \n",
    "\n",
    "ages = cholsForViz.index.tolist()\n",
    "counts = cholsForViz.values\n",
    "\n",
    "agCH = figure(x_range=ages, title=\"Average of Total Cholesterol measurement in pts with DM per age groups\",\n",
    "           toolbar_location=None, tools=\"\", y_axis_label = 'mg/dL', x_axis_label = 'age groups')\n",
    "\n",
    "agCH.vbar(x=ages, top=counts, width=0.7, alpha = 0.5,line_color = \"black\", line_width =0.5, )\n",
    "treshold = 170\n",
    "hline = Span(location=treshold, dimension='width', line_color='red', line_width=3)\n",
    "\n",
    "agCH.renderers.extend([hline])\n",
    "\n",
    "agCH.xgrid.grid_line_color = None\n",
    "agCH.y_range.start = 0\n",
    "\n",
    "############ TR average value \n",
    "\n",
    "agesT = trageV.index.tolist()\n",
    "countsT = trageV.values\n",
    "\n",
    "agTR = figure(x_range=ages, title=\"Average of Triglycerides measurement in pts with DM per age groups\",\n",
    "           toolbar_location=None, tools=\"\", y_axis_label = 'mg/dL', x_axis_label = 'age groups')\n",
    "\n",
    "agTR.vbar(x=agesT, top=countsT, width=0.7, alpha = 0.5,line_color = \"black\", line_width =0.5, )\n",
    "tresholdT = 150\n",
    "hlineT = Span(location=tresholdT, dimension='width', line_color='red', line_width=3)\n",
    "\n",
    "agTR.renderers.extend([hlineT])\n",
    "\n",
    "agTR.xgrid.grid_line_color = None\n",
    "agTR.y_range.start = 0\n",
    "\n",
    "########### H1AC number of measurements #######################\n",
    "from bokeh.models import Range1d\n",
    "\n",
    "ageH = ageHa1c.index.tolist()\n",
    "valueH1ac = ageHa1c.values.tolist()\n",
    "\n",
    "timeH1ac = figure(x_range=ageH,  title=\"Average time between measurments of HA1C\",\n",
    "           toolbar_location=None, tools=\"\", y_axis_label = 'days')\n",
    "\n",
    "timeH1ac.vbar(x=ageH, top=valueH1ac, line_color='black', width=0.7, alpha = 0.5, line_width =0.5,)\n",
    "\n",
    "timeH1ac.xgrid.grid_line_color = None\n",
    "timeH1ac.y_range.start = 0\n",
    "\n",
    "\n",
    "treshold1 = 182\n",
    "hlines1= Span(location=treshold1, dimension='width', line_color='red', line_width=3)\n",
    "timeH1ac.renderers.extend([hlines1])\n",
    "\n",
    "treshold2 = 365\n",
    "hlines2 = Span(location=treshold2, dimension='width', line_color='red', line_width=3)\n",
    "timeH1ac.renderers.extend([hlines2])\n",
    "\n",
    "timeH1ac.xgrid.grid_line_color = None\n",
    "timeH1ac.y_range.start = 0\n",
    "\n",
    "############## H1AC values ################\n",
    "\n",
    "ageRangeHV = ageVH.index.tolist()\n",
    "valueHV = ageVH.values.tolist()\n",
    "\n",
    "valueH1ac = figure(x_range=ageRangeHV,  title=\"Average of HA1C measurment per age groups\",\n",
    "           toolbar_location=None, tools=\"\",y_axis_label = '%', x_axis_label = 'age groups')\n",
    "\n",
    "valueH1ac.vbar(x=ageRangeHV, top=valueHV, line_color='black', width=0.7, alpha = 0.5, line_width =0.5,  )\n",
    "\n",
    "valueH1ac.xgrid.grid_line_color = None\n",
    "valueH1ac.y_range.start = 0\n",
    "\n",
    "\n",
    "treshold1V = 7\n",
    "hlinesV= Span(location=treshold1V, dimension='width', line_color='red', line_width=3)\n",
    "valueH1ac.renderers.extend([hlinesV])\n",
    "valueH1ac.y_range = Range1d(0, 8)\n",
    "valueH1ac.xgrid.grid_line_color = None\n",
    "valueH1ac.y_range.start = 0\n",
    "\n",
    "\n",
    "\n",
    "\n",
    "##### GRID ASSEMBLE into tabs #############\n",
    "\n",
    "anemiaGrid = gridplot([ [a,hgb ], [tr, trm],[timeH1ac,valueH1ac], [agCH, agTR]])\n",
    "\n",
    "grid = gridplot([[p, com], [gen, ageGr]])\n",
    "\n",
    "tab1 = Panel(child=grid,title=\"Complications contributing factors\")\n",
    "tab2 = Panel(child=anemiaGrid,title=\"Care managment\")\n",
    "tabs = Tabs(tabs=[ tab1, tab2 ])\n",
    "\n",
    "show(tabs)\n"
   ]
  },
  {
   "cell_type": "code",
   "execution_count": 153,
   "id": "3880bb07",
   "metadata": {},
   "outputs": [],
   "source": [
    " ########### viz of the hgd measurment distribution -> not usefull \n",
    "\n",
    "#from bokeh.io import output_file, show\n",
    "#from bokeh.models import ColumnDataSource\n",
    "#from bokeh.plotting import figure\n",
    "#from bokeh.sampledata.commits import data\n",
    "#from bokeh.transform import jitter    \n",
    "#genders = ['F', 'M']\n",
    "\n",
    "#source = ColumnDataSource(hg[['GENDER', 'VALUE']].reset_index(drop= True))\n",
    "\n",
    "#anem = figure(height=350, y_range=genders, x_axis_type='linear',\n",
    "#           toolbar_location=None, sizing_mode=\"stretch_width\",\n",
    "#           title=\"Distribution of the hgb for the pts who Hgb had been measured\", x_axis_label =\"Hgb (gm/dL)\")\n",
    "\n",
    "#anem.circle(x='VALUE', y=jitter('GENDER',width=0.6, range=anem.y_range),  source=source)\n",
    "\n",
    "\n",
    "#anem.x_range.range_padding = 0\n",
    "#anem.ygrid.grid_line_color = None\n"
   ]
  },
  {
   "cell_type": "code",
   "execution_count": null,
   "id": "c0707aa0",
   "metadata": {},
   "outputs": [],
   "source": []
  }
 ],
 "metadata": {
  "kernelspec": {
   "display_name": "Python 3 (ipykernel)",
   "language": "python",
   "name": "python3"
  },
  "language_info": {
   "codemirror_mode": {
    "name": "ipython",
    "version": 3
   },
   "file_extension": ".py",
   "mimetype": "text/x-python",
   "name": "python",
   "nbconvert_exporter": "python",
   "pygments_lexer": "ipython3",
   "version": "3.9.7"
  }
 },
 "nbformat": 4,
 "nbformat_minor": 5
}
